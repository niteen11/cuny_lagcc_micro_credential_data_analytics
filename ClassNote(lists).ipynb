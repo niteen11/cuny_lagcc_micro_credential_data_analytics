{
  "nbformat": 4,
  "nbformat_minor": 0,
  "metadata": {
    "colab": {
      "name": "ClassNote(lists).ipynb",
      "provenance": [],
      "authorship_tag": "ABX9TyMYD0EHg6GoAbGi68+bW2xg",
      "include_colab_link": true
    },
    "kernelspec": {
      "name": "python3",
      "display_name": "Python 3"
    },
    "language_info": {
      "name": "python"
    }
  },
  "cells": [
    {
      "cell_type": "markdown",
      "metadata": {
        "id": "view-in-github",
        "colab_type": "text"
      },
      "source": [
        "<a href=\"https://colab.research.google.com/github/VazKBCC22/cuny_lagcc_micro_credential_data_analytics/blob/main/ClassNote(lists).ipynb\" target=\"_parent\"><img src=\"https://colab.research.google.com/assets/colab-badge.svg\" alt=\"Open In Colab\"/></a>"
      ]
    },
    {
      "cell_type": "markdown",
      "source": [
        "#LISTS"
      ],
      "metadata": {
        "id": "__48XwbfpL51"
      }
    },
    {
      "cell_type": "code",
      "execution_count": null,
      "metadata": {
        "colab": {
          "base_uri": "https://localhost:8080/"
        },
        "id": "VccKiCkrpBEj",
        "outputId": "b9c307bc-89e4-45e8-fe60-07016c599e26"
      },
      "outputs": [
        {
          "output_type": "stream",
          "name": "stdout",
          "text": [
            "['star wars', 'star trek', 'lord of the rings', 'avengers']\n"
          ]
        }
      ],
      "source": [
        "movies = ['star wars', 'star trek', 'lord of the rings', 'avengers']\n",
        "print(movies)"
      ]
    },
    {
      "cell_type": "markdown",
      "source": [
        "#ACCESING ELEMENTS WITHIN A LIST"
      ],
      "metadata": {
        "id": "1BiSDsVKzHwh"
      }
    },
    {
      "cell_type": "code",
      "source": [
        "movies[0]"
      ],
      "metadata": {
        "colab": {
          "base_uri": "https://localhost:8080/",
          "height": 35
        },
        "id": "B556U0yEzQA3",
        "outputId": "d63b8edc-47ab-4b93-f2c3-de6c7116748c"
      },
      "execution_count": null,
      "outputs": [
        {
          "output_type": "execute_result",
          "data": {
            "application/vnd.google.colaboratory.intrinsic+json": {
              "type": "string"
            },
            "text/plain": [
              "'star wars'"
            ]
          },
          "metadata": {},
          "execution_count": 2
        }
      ]
    },
    {
      "cell_type": "markdown",
      "source": [
        "#EXAMPLES OF CODES"
      ],
      "metadata": {
        "id": "eqkhul3XzXgA"
      }
    },
    {
      "cell_type": "code",
      "source": [
        "list1 = [\"apple\", \"banana\", \"cherry\"]\n",
        "list2 = [1, 5, 7, 9, 3]\n",
        "list3 = [True, False, True]\n",
        "print(type(list3))\n",
        "print(list1[1])\n",
        "print(list1[-1 ])"
      ],
      "metadata": {
        "colab": {
          "base_uri": "https://localhost:8080/"
        },
        "id": "9bvbouuuzr1B",
        "outputId": "47e01673-55ae-4139-b499-6ebdb9c8243f"
      },
      "execution_count": null,
      "outputs": [
        {
          "output_type": "stream",
          "name": "stdout",
          "text": [
            "<class 'list'>\n",
            "banana\n",
            "cherry\n"
          ]
        }
      ]
    },
    {
      "cell_type": "markdown",
      "source": [
        "#METHODS ON STRINGS"
      ],
      "metadata": {
        "id": "XpNzcxZWA75B"
      }
    },
    {
      "cell_type": "code",
      "source": [
        "print(movies[0].title())\n",
        "print(movies[0].upper())"
      ],
      "metadata": {
        "colab": {
          "base_uri": "https://localhost:8080/"
        },
        "id": "Kh1tX6s5BGgE",
        "outputId": "82d5f318-b199-4867-a427-81df6bcf00d0"
      },
      "execution_count": 4,
      "outputs": [
        {
          "output_type": "stream",
          "name": "stdout",
          "text": [
            "Star Wars\n",
            "STAR WARS\n"
          ]
        }
      ]
    },
    {
      "cell_type": "code",
      "source": [
        "print(movies[3])\n",
        "print(movies[2])\n",
        "print(movies[-1])"
      ],
      "metadata": {
        "colab": {
          "base_uri": "https://localhost:8080/"
        },
        "id": "_UHJK3HnCMBL",
        "outputId": "139f8884-5dfc-40b2-d5a9-e4c9e8b8aede"
      },
      "execution_count": 6,
      "outputs": [
        {
          "output_type": "stream",
          "name": "stdout",
          "text": [
            "avengers\n",
            "lord of the rings\n",
            "avengers\n"
          ]
        }
      ]
    },
    {
      "cell_type": "code",
      "source": [
        "message = \"My favorite movie is \" + movies[0].upper() + \"!!!\"\n",
        "print(message)"
      ],
      "metadata": {
        "colab": {
          "base_uri": "https://localhost:8080/"
        },
        "id": "lORCV_DvCksS",
        "outputId": "5b773cd7-7e8f-477e-bc9a-41c1e88c282a"
      },
      "execution_count": 7,
      "outputs": [
        {
          "output_type": "stream",
          "name": "stdout",
          "text": [
            "My favorite movie is STAR WARS!!!\n"
          ]
        }
      ]
    },
    {
      "cell_type": "markdown",
      "source": [
        "#WORKING WITH LISTS"
      ],
      "metadata": {
        "id": "iDvwWKa1C7a0"
      }
    },
    {
      "cell_type": "code",
      "source": [
        "a = [4,7,3,2,5,9]\n",
        "print(a[1])\n",
        "for i in a:\n",
        "  print(\"Element: \" + str(i) + \" Index: \" + str(a.index(i)))"
      ],
      "metadata": {
        "colab": {
          "base_uri": "https://localhost:8080/"
        },
        "id": "bFc2tEdpDFmS",
        "outputId": "38d87956-ccb8-4cdc-b9d7-6896a22d3894"
      },
      "execution_count": 8,
      "outputs": [
        {
          "output_type": "stream",
          "name": "stdout",
          "text": [
            "7\n",
            "Element: 4 Index: 0\n",
            "Element: 7 Index: 1\n",
            "Element: 3 Index: 2\n",
            "Element: 2 Index: 3\n",
            "Element: 5 Index: 4\n",
            "Element: 9 Index: 5\n"
          ]
        }
      ]
    },
    {
      "cell_type": "markdown",
      "source": [
        "#MODIFYING LISTS"
      ],
      "metadata": {
        "id": "G5xOuAizEN7H"
      }
    },
    {
      "cell_type": "code",
      "source": [
        "movies = [\"star wars\", 'star trek', 'lord of the rings', 'avengers']\n",
        "print(movies)\n",
        "movies[1] = 'the matrix'\n",
        "print(movies)\n",
        "movies.append('ready player one')\n",
        "print(movies)\n",
        "movies.insert(0, 'lion king')\n",
        "print(movies)\n",
        "del movies[0]\n",
        "print(movies)\n",
        "movies.remove('the matrix')\n",
        "print(movies)"
      ],
      "metadata": {
        "colab": {
          "base_uri": "https://localhost:8080/"
        },
        "id": "ACL_2Mq7ETtt",
        "outputId": "c6b465f7-d231-4037-e67b-e301054d0853"
      },
      "execution_count": 14,
      "outputs": [
        {
          "output_type": "stream",
          "name": "stdout",
          "text": [
            "['star wars', 'star trek', 'lord of the rings', 'avengers']\n",
            "['star wars', 'the matrix', 'lord of the rings', 'avengers']\n",
            "['star wars', 'the matrix', 'lord of the rings', 'avengers', 'ready player one']\n",
            "['lion king', 'star wars', 'the matrix', 'lord of the rings', 'avengers', 'ready player one']\n",
            "['star wars', 'the matrix', 'lord of the rings', 'avengers', 'ready player one']\n",
            "['star wars', 'lord of the rings', 'avengers', 'ready player one']\n"
          ]
        }
      ]
    },
    {
      "cell_type": "markdown",
      "source": [
        "#SORTING A LIST"
      ],
      "metadata": {
        "id": "LBR2KAF7IX4R"
      }
    },
    {
      "cell_type": "code",
      "source": [
        "print(movies)\n",
        "movies.sort() # sort by alphabetic order\n",
        "print(movies)\n",
        "movies.sort(reverse=True)\n",
        "print(movies)\n",
        "print(movies)\n",
        "print(sorted(movies))"
      ],
      "metadata": {
        "colab": {
          "base_uri": "https://localhost:8080/"
        },
        "id": "nuViXq1eIctj",
        "outputId": "9aeb80e6-4413-4286-a2ca-9434fd52d5eb"
      },
      "execution_count": 18,
      "outputs": [
        {
          "output_type": "stream",
          "name": "stdout",
          "text": [
            "['star wars', 'ready player one', 'lord of the rings', 'avengers']\n",
            "['avengers', 'lord of the rings', 'ready player one', 'star wars']\n",
            "['star wars', 'ready player one', 'lord of the rings', 'avengers']\n",
            "['star wars', 'ready player one', 'lord of the rings', 'avengers']\n",
            "['avengers', 'lord of the rings', 'ready player one', 'star wars']\n"
          ]
        }
      ]
    },
    {
      "cell_type": "markdown",
      "source": [
        ""
      ],
      "metadata": {
        "id": "NRI_PMUTBAc0"
      }
    }
  ]
}