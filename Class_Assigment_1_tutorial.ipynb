{
  "cells": [
    {
      "cell_type": "markdown",
      "metadata": {
        "id": "view-in-github",
        "colab_type": "text"
      },
      "source": [
        "<a href=\"https://colab.research.google.com/github/VazKBCC22/cuny_lagcc_micro_credential_data_analytics/blob/main/Class_Assigment_1_tutorial.ipynb\" target=\"_parent\"><img src=\"https://colab.research.google.com/assets/colab-badge.svg\" alt=\"Open In Colab\"/></a>"
      ]
    },
    {
      "cell_type": "markdown",
      "metadata": {
        "id": "qVrTo-LhL9eS"
      },
      "source": [
        "##Introduction to python Microcredential Data analytics course at LaGuardia community collage."
      ]
    },
    {
      "cell_type": "markdown",
      "metadata": {
        "id": "0vJLt3JRL9eR"
      },
      "source": [
        "This tutorial was originally written by [Justin Johnson](https://web.eecs.umich.edu/~justincj/) for cs231n. It was adapted and modifiead for Microcredential course at Lugardia community collage."
      ]
    },
    {
      "cell_type": "markdown",
      "metadata": {
        "id": "U1PvreR9L9eW"
      },
      "source": [
        "In this tutorial, we will cover:\n",
        "\n",
        "* Basic Python: Basic data types (Containers, Lists, Dictionaries, Sets, Tuples), Functions, Classes\n",
        "* Numpy: Arrays, Array indexing, Datatypes, Array math, Broadcasting\n",
        "* Matplotlib: Plotting, Subplots, Images\n",
        "* IPython: Creating notebooks, Typical workflows"
      ]
    },
    {
      "cell_type": "markdown",
      "metadata": {
        "id": "dzNng6vCL9eP"
      },
      "source": [
        "#Microceredential Data analytics, Python Tutorial With Google Colab"
      ]
    },
    {
      "cell_type": "markdown",
      "metadata": {
        "id": "nxvEkGXPM3Xh"
      },
      "source": [
        "## A Brief Note on Python Versions\n",
        "\n",
        "As of Janurary 1, 2020, Python has [officially dropped support](https://www.python.org/doc/sunset-python-2/) for `python2`. We'll be using Python 3.7 for this iteration of the course. You can check your Python version at the command line by running `python --version`. In Colab, we can enforce the Python version by clicking `Runtime -> Change Runtime Type` and selecting `python3`. Note that as of April 2020, Colab uses Python 3.6.9 which should run everything without any errors."
      ]
    },
    {
      "cell_type": "code",
      "execution_count": null,
      "metadata": {
        "colab": {
          "base_uri": "https://localhost:8080/"
        },
        "id": "1L4Am0QATgOc",
        "outputId": "5e83a101-8161-4030-f99b-2b243a056f2e"
      },
      "outputs": [
        {
          "output_type": "stream",
          "name": "stdout",
          "text": [
            "Python 3.7.12\n"
          ]
        }
      ],
      "source": [
        "!python --version"
      ]
    },
    {
      "cell_type": "markdown",
      "metadata": {
        "id": "JAFKYgrpL9eY"
      },
      "source": [
        "##Basics of Python,Dont panic it is just a taste of python."
      ]
    },
    {
      "cell_type": "markdown",
      "metadata": {
        "id": "RbFS6tdgL9ea"
      },
      "source": [
        "Python is a high-level, dynamically typed multiparadigm programming language. Python code is often said to be almost like pseudocode, since it allows you to express very powerful ideas in very few lines of code while being very readable. As an example, here is an implementation of the classic quicksort algorithm in Python:"
      ]
    },
    {
      "cell_type": "code",
      "execution_count": null,
      "metadata": {
        "colab": {
          "base_uri": "https://localhost:8080/"
        },
        "id": "cYb0pjh1L9eb",
        "outputId": "65288e87-3092-45ab-857e-adf503cf6316"
      },
      "outputs": [
        {
          "output_type": "stream",
          "name": "stdout",
          "text": [
            "[1, 1, 2, 3, 6, 8, 10]\n"
          ]
        }
      ],
      "source": [
        "# N example of python code sorting \n",
        "def quicksort(arr):\n",
        "    if len(arr) <= 0:\n",
        "        return arr\n",
        "    pivot = arr[len(arr) // 2]\n",
        "    left = [x for x in arr if x < pivot]\n",
        "    middle = [x for x in arr if x == pivot]\n",
        "    right = [x for x in arr if x > pivot]\n",
        "    return quicksort(left) + middle + quicksort(right)\n",
        "\n",
        "print(quicksort([3,6,8,10,1,2,1]))"
      ]
    },
    {
      "cell_type": "markdown",
      "source": [
        "Quastion1\n",
        "Observing the above code and answer the following quastions:\n",
        "1. What is the code executing?\n",
        "2. What is the name of list of array with numbers ?\n",
        "3.Change the name of the Array and run the code .make sure no errors.\n",
        "4.Change the line if len(arr) <= 1: to if len(arr) <= 10:  run the code and   explain the outcome."
      ],
      "metadata": {
        "id": "wh4XcqdX6jLV"
      }
    },
    {
      "cell_type": "code",
      "source": [
        "# Answer to question 1 The code is ordering the list in ascedning \n",
        "# Answer to question 2 The name of the name of the list with numbers is arr\n",
        "\n",
        "def quicksort(Array):\n",
        "  if len(Array) <= 0:\n",
        "    return Array\n",
        "  pivot = Array[len(Array) // 2]\n",
        "  left = [i for i in Array if i < pivot]\n",
        "  middle = [i for i in Array if i == pivot]\n",
        "  right = [i for i in Array if i > pivot ]\n",
        "  return quicksort(left) + middle + quicksort(right)\n",
        "\n",
        "print(quicksort([3,6,8,10,1,2,1]))"
      ],
      "metadata": {
        "id": "gDz3tdSH8oVs",
        "colab": {
          "base_uri": "https://localhost:8080/"
        },
        "outputId": "ea707bc8-a561-4e99-a03a-a9a9242feb2e"
      },
      "execution_count": null,
      "outputs": [
        {
          "output_type": "stream",
          "name": "stdout",
          "text": [
            "[1, 1, 2, 3, 6, 8, 10]\n"
          ]
        }
      ]
    },
    {
      "cell_type": "code",
      "source": [
        ""
      ],
      "metadata": {
        "id": "SP97VP6SZ_CN"
      },
      "execution_count": null,
      "outputs": []
    },
    {
      "cell_type": "code",
      "source": [
        "# Answer to question 1 The code is ordering the list in ascedning \n",
        "# Answer to question 2 The name of the name of the list with numbers is arr\n",
        "\n",
        "def quicksort(Array):\n",
        "  if len(Array) <= 10:\n",
        "    return Array\n",
        "  pivot = Array[len(Array) // 2]\n",
        "  left = [i for i in Array if i < pivot]\n",
        "  middle = [i for i in Array if i == pivot]\n",
        "  right = [i for i in Array if i > pivot ]\n",
        "  return quicksort(left) + middle + quicksort(right)\n",
        "\n",
        "print(quicksort([3,6,8,10,1,2,1]))\n",
        "\n",
        "# It just prints out whatever list you input into the function"
      ],
      "metadata": {
        "colab": {
          "base_uri": "https://localhost:8080/"
        },
        "outputId": "7917fe77-b3b4-40f4-f149-b3a92a989ebd",
        "id": "hUc2S0czaEfP"
      },
      "execution_count": null,
      "outputs": [
        {
          "output_type": "stream",
          "name": "stdout",
          "text": [
            "[3, 6, 8, 10, 1, 2, 1]\n"
          ]
        }
      ]
    },
    {
      "cell_type": "markdown",
      "metadata": {
        "id": "NwS_hu4xL9eo"
      },
      "source": [
        "###Basic data types"
      ]
    },
    {
      "cell_type": "markdown",
      "metadata": {
        "id": "DL5sMSZ9L9eq"
      },
      "source": [
        "####Numbers"
      ]
    },
    {
      "cell_type": "markdown",
      "metadata": {
        "id": "MGS0XEWoL9er"
      },
      "source": [
        "Integers and floats work as you would expect from other languages:"
      ]
    },
    {
      "cell_type": "code",
      "execution_count": null,
      "metadata": {
        "colab": {
          "base_uri": "https://localhost:8080/"
        },
        "id": "KheDr_zDL9es",
        "outputId": "e1a41a6c-0eb8-4950-9df9-5a4068aab62e"
      },
      "outputs": [
        {
          "output_type": "stream",
          "name": "stdout",
          "text": [
            "3 <class 'int'>\n"
          ]
        }
      ],
      "source": [
        "x = 3\n",
        "print(x, type(x))"
      ]
    },
    {
      "cell_type": "code",
      "execution_count": null,
      "metadata": {
        "id": "sk_8DFcuL9ey",
        "colab": {
          "base_uri": "https://localhost:8080/"
        },
        "outputId": "4a7a0015-e86a-4a19-a5f3-25b2da1a1a2a"
      },
      "outputs": [
        {
          "output_type": "stream",
          "name": "stdout",
          "text": [
            "4\n",
            "2\n",
            "6\n",
            "9\n"
          ]
        }
      ],
      "source": [
        "print(x + 1)   # Addition\n",
        "print(x - 1)   # Subtraction\n",
        "print(x * 2)   # Multiplication\n",
        "print(x ** 2)  # Exponentiation"
      ]
    },
    {
      "cell_type": "markdown",
      "source": [
        "This is added text\n"
      ],
      "metadata": {
        "id": "pEjZXBFhCVnG"
      }
    },
    {
      "cell_type": "code",
      "execution_count": null,
      "metadata": {
        "colab": {
          "base_uri": "https://localhost:8080/"
        },
        "id": "U4Jl8K0tL9e4",
        "outputId": "66f5d1ea-f02f-4f87-fa6f-b67e5e8bd5e7"
      },
      "outputs": [
        {
          "output_type": "stream",
          "name": "stdout",
          "text": [
            "4\n",
            "8\n"
          ]
        }
      ],
      "source": [
        "x += 1 # like saying x=x+1\n",
        "print(x)\n",
        "x *= 2\n",
        "print(x)"
      ]
    },
    {
      "cell_type": "markdown",
      "source": [
        "Note that unlike many languages, Python does not have unary increment (x++) or decrement (x--) operators.\n",
        "\n",
        "Python also has built-in types for long integers and complex numbers; you can find all of the details in the [documentation](https://docs.python.org/3.7/library/stdtypes.html#numeric-types-int-float-long-complex)."
      ],
      "metadata": {
        "id": "0E7Tu0EtQtpF"
      }
    },
    {
      "cell_type": "markdown",
      "source": [
        "USING THE ABOVE CODE:write acode to do the following:\n",
        "\n",
        "Let x=12\n",
        "Add 2 to x\n",
        "\n",
        "multply x by 2\n",
        "\n",
        "let y be  x devide by 6\n",
        "\n",
        "print x and and it's data type.\n",
        "\n"
      ],
      "metadata": {
        "id": "8RrmUnt_ACJk"
      }
    },
    {
      "cell_type": "code",
      "source": [
        "# Your code here.\n",
        "x = 12\n",
        "x += 2\n",
        "x *=2\n",
        "y = x / 6\n",
        "print(x, type(x))"
      ],
      "metadata": {
        "id": "7SZyIGcuAxgv",
        "colab": {
          "base_uri": "https://localhost:8080/"
        },
        "outputId": "ca281c3c-b1dd-4085-b951-496b8966b345"
      },
      "execution_count": null,
      "outputs": [
        {
          "output_type": "stream",
          "name": "stdout",
          "text": [
            "28 <class 'int'>\n"
          ]
        }
      ]
    },
    {
      "cell_type": "markdown",
      "source": [
        ""
      ],
      "metadata": {
        "id": "hew1k1f_BfNG"
      }
    },
    {
      "cell_type": "markdown",
      "source": [
        "Modify the line print(\"The result is\",y, y + 1, y * 2, y ** 2 to \n",
        "\n",
        "print(\"The result is\",y, y + 1, y * 2, y ** 2)\n",
        "\n",
        "Run the program and see the result."
      ],
      "metadata": {
        "id": "BWAg0-RjBoUl"
      }
    },
    {
      "cell_type": "code",
      "execution_count": null,
      "metadata": {
        "colab": {
          "base_uri": "https://localhost:8080/"
        },
        "outputId": "82f30de4-360f-46f9-841c-f3eec8515208",
        "id": "X9h9o_5KbILM"
      },
      "outputs": [
        {
          "output_type": "stream",
          "name": "stdout",
          "text": [
            "<class 'float'>\n",
            "3.5 4.5 7.0 12.25\n"
          ]
        }
      ],
      "source": [
        "y = 3.5\n",
        "print(type(y))\n",
        "print(y, y + 1, y * 2, y ** 2)"
      ]
    },
    {
      "cell_type": "code",
      "source": [
        "x = 5\n",
        "y = \"John\"\n",
        "print(x)\n",
        "print(y)"
      ],
      "metadata": {
        "id": "1gQTs-lcLrNz",
        "colab": {
          "base_uri": "https://localhost:8080/"
        },
        "outputId": "71578626-aa22-4c44-93c7-4233e22ff055"
      },
      "execution_count": null,
      "outputs": [
        {
          "output_type": "stream",
          "name": "stdout",
          "text": [
            "5\n",
            "John\n"
          ]
        }
      ]
    },
    {
      "cell_type": "markdown",
      "source": [
        "Rewrite the code to make the output as ⁉\n",
        "\n",
        "5 John\n",
        "John"
      ],
      "metadata": {
        "id": "6ZHuAxMOMAoi"
      }
    },
    {
      "cell_type": "code",
      "source": [
        "x = 5\n",
        "y = \"John\"\n",
        "print(x, y + \" \" + y)"
      ],
      "metadata": {
        "id": "fA1oXuTvL9hu",
        "colab": {
          "base_uri": "https://localhost:8080/"
        },
        "outputId": "aa35a1aa-c86e-4d2c-dada-2f9f6953b7a9"
      },
      "execution_count": null,
      "outputs": [
        {
          "output_type": "stream",
          "name": "stdout",
          "text": [
            "5 John John\n"
          ]
        }
      ]
    },
    {
      "cell_type": "markdown",
      "source": [
        "![image.png](data:image/png;base64,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)"
      ],
      "metadata": {
        "id": "ux41ahIgGTqj"
      }
    },
    {
      "cell_type": "code",
      "source": [
        "name = \"John\"\n",
        "print(name.lower())\n",
        "print(name.upper())\n",
        "name2 = \"John\\t\"\n",
        "print(name2.strip())"
      ],
      "metadata": {
        "colab": {
          "base_uri": "https://localhost:8080/"
        },
        "id": "o1KCd_ycb4Nn",
        "outputId": "dc0ef915-bc45-49f8-9ba9-b75d2225ee8c"
      },
      "execution_count": null,
      "outputs": [
        {
          "output_type": "stream",
          "name": "stdout",
          "text": [
            "john\n",
            "JOHN\n",
            "John\n"
          ]
        }
      ]
    },
    {
      "cell_type": "code",
      "source": [
        "#For the following code can you explain difrence of x = str(3) , and x will be '3'\n",
        "y = int(3)    # y will be 3\n",
        "x = str(3)    # x will be '3'\n",
        "y = int(3)    # y will be 3\n",
        "z = float(3)  # z will be 3.0"
      ],
      "metadata": {
        "id": "NWNaQry_MRhL"
      },
      "execution_count": null,
      "outputs": []
    },
    {
      "cell_type": "markdown",
      "source": [
        "Explain here\n",
        "\n",
        "y is an integer in the form: 3\n",
        "x is a string in the form: \"3\"\n",
        "y is an integer in the form: 3\n",
        "z is a float in the form: 3.0"
      ],
      "metadata": {
        "id": "jtn1ysYwMtJO"
      }
    },
    {
      "cell_type": "code",
      "source": [
        "x = \"John\"\n",
        "# is the same as ,Is it true ?\n",
        "x = 'John'\n"
      ],
      "metadata": {
        "id": "6E_h3tOSM7oL"
      },
      "execution_count": null,
      "outputs": []
    },
    {
      "cell_type": "markdown",
      "source": [
        "Many Values to Multiple Variables"
      ],
      "metadata": {
        "id": "EksUbnnfNWse"
      }
    },
    {
      "cell_type": "code",
      "source": [
        "x, y, z = \"Orange\", \"Banana\", \"Cherry\"\n",
        "print(x)\n",
        "print(y)\n",
        "print(z)"
      ],
      "metadata": {
        "colab": {
          "base_uri": "https://localhost:8080/"
        },
        "id": "czPxJUhPNYIj",
        "outputId": "8f67c873-31e0-472f-f3bc-a0018071e66e"
      },
      "execution_count": null,
      "outputs": [
        {
          "output_type": "stream",
          "name": "stdout",
          "text": [
            "Orange\n",
            "Banana\n",
            "Cherry\n"
          ]
        }
      ]
    },
    {
      "cell_type": "markdown",
      "source": [
        "Make the out put as ⁉ using variable name at print statement\n",
        "Orange\n",
        "Banana\n",
        "Cherry\n",
        "i Love  Banana"
      ],
      "metadata": {
        "id": "ufnbQFnwN25y"
      }
    },
    {
      "cell_type": "code",
      "source": [
        "#Your code\n",
        "\n",
        "variable = x + \" \" + y + \" \" + z + \" i Love \" + y\n",
        "print(variable)"
      ],
      "metadata": {
        "id": "YhlfZlROOGDV",
        "colab": {
          "base_uri": "https://localhost:8080/"
        },
        "outputId": "bd03ac81-0bd3-4d24-9fcc-df190037ae6f"
      },
      "execution_count": null,
      "outputs": [
        {
          "output_type": "stream",
          "name": "stdout",
          "text": [
            "Orange Banana Cherry i Love Banana\n"
          ]
        }
      ]
    },
    {
      "cell_type": "markdown",
      "source": [
        "Unpack a Collection\n",
        "If you have a collection of values in a list, tuple etc. Python allows you extract the values into variables. This is called unpacking.\n",
        "\n"
      ],
      "metadata": {
        "id": "Nr54Rw8kOe05"
      }
    },
    {
      "cell_type": "code",
      "source": [
        "fruits = [\"apple\", \"banana\", \"cherry\"]\n",
        "x, y, z = fruits\n",
        "\n",
        "print(x)\n",
        "print(y)\n",
        "print(z)"
      ],
      "metadata": {
        "id": "n3FOBdaCOgpg",
        "colab": {
          "base_uri": "https://localhost:8080/"
        },
        "outputId": "eabf4cae-bc6f-4163-c870-1dca7f32c277"
      },
      "execution_count": null,
      "outputs": [
        {
          "output_type": "stream",
          "name": "stdout",
          "text": [
            "apple\n",
            "banana\n",
            "cherry\n"
          ]
        }
      ]
    },
    {
      "cell_type": "markdown",
      "source": [
        "Write a code with a list of your four favorite foods,extract the values into variables and print them."
      ],
      "metadata": {
        "id": "FQZXb4VGOmLA"
      }
    },
    {
      "cell_type": "code",
      "source": [
        "# Your code\n",
        "\n",
        "foods = [\"Pork\", \"Pizza\", \"Chinese\", \"Cornish Hen\", \"Ice Cream\"]\n",
        "a, b, c, d, e = foods\n",
        "print(a)\n",
        "print(b)\n",
        "print(c)\n",
        "print(d)\n",
        "print(e)"
      ],
      "metadata": {
        "id": "jwQ8GZwlPHH0",
        "colab": {
          "base_uri": "https://localhost:8080/"
        },
        "outputId": "f95b73b2-1761-4ef3-ea97-497ff703d2f3"
      },
      "execution_count": null,
      "outputs": [
        {
          "output_type": "stream",
          "name": "stdout",
          "text": [
            "Pork\n",
            "Pizza\n",
            "Chinese\n",
            "Cornish Hen\n",
            "Ice Cream\n"
          ]
        }
      ]
    },
    {
      "cell_type": "markdown",
      "metadata": {
        "id": "EqRS7qhBL9fC"
      },
      "source": [
        "####Booleans"
      ]
    },
    {
      "cell_type": "markdown",
      "metadata": {
        "id": "Nv_LIVOJL9fD"
      },
      "source": [
        "Python implements all of the usual operators for Boolean logic, but uses English words rather than symbols (`&&`, `||`, etc.):"
      ]
    },
    {
      "cell_type": "code",
      "execution_count": null,
      "metadata": {
        "colab": {
          "base_uri": "https://localhost:8080/"
        },
        "id": "RvoImwgGL9fE",
        "outputId": "907bc4d2-23ef-42a9-e607-90697a6275f1"
      },
      "outputs": [
        {
          "output_type": "stream",
          "name": "stdout",
          "text": [
            "<class 'bool'>\n",
            "<class 'bool'>\n"
          ]
        }
      ],
      "source": [
        "t, f = True, False\n",
        "print(type(t))\n",
        "print(type(f))"
      ]
    },
    {
      "cell_type": "markdown",
      "metadata": {
        "id": "YQgmQfOgL9fI"
      },
      "source": [
        "Now we let's look at the operations:"
      ]
    },
    {
      "cell_type": "code",
      "execution_count": null,
      "metadata": {
        "colab": {
          "base_uri": "https://localhost:8080/",
          "height": 86
        },
        "id": "6zYm7WzCL9fK",
        "outputId": "f3cebe76-5af4-473a-8127-88a1fd60560f"
      },
      "outputs": [
        {
          "name": "stdout",
          "output_type": "stream",
          "text": [
            "False\n",
            "True\n",
            "False\n",
            "True\n"
          ]
        }
      ],
      "source": [
        "print(t and f) # Logical AND;\n",
        "print(t or f)  # Logical OR;\n",
        "print(not t)   # Logical NOT;\n",
        "print(t != f)  # Logical XOR;"
      ]
    },
    {
      "cell_type": "markdown",
      "metadata": {
        "id": "UQnQWFEyL9fP"
      },
      "source": [
        "####Strings"
      ]
    },
    {
      "cell_type": "code",
      "execution_count": null,
      "metadata": {
        "colab": {
          "base_uri": "https://localhost:8080/",
          "height": 34
        },
        "id": "AijEDtPFL9fP",
        "outputId": "2a6b0cd7-58f1-43cf-e6b7-bf940d532549"
      },
      "outputs": [
        {
          "name": "stdout",
          "output_type": "stream",
          "text": [
            "hello 5\n"
          ]
        }
      ],
      "source": [
        "hello = 'hello'   # String literals can use single quotes\n",
        "world = \"world\"   # or double quotes; it does not matter\n",
        "print(hello, len(hello))"
      ]
    },
    {
      "cell_type": "code",
      "execution_count": null,
      "metadata": {
        "colab": {
          "base_uri": "https://localhost:8080/",
          "height": 34
        },
        "id": "saDeaA7hL9fT",
        "outputId": "2837d0ab-9ae5-4053-d087-bfa0af81c344"
      },
      "outputs": [
        {
          "name": "stdout",
          "output_type": "stream",
          "text": [
            "hello world\n"
          ]
        }
      ],
      "source": [
        "hw = hello + ' ' + world  # String concatenation\n",
        "print(hw)"
      ]
    },
    {
      "cell_type": "markdown",
      "source": [
        "PRINT ,My name is your name and family and i am your age years old"
      ],
      "metadata": {
        "id": "19nrofRpG56M"
      }
    },
    {
      "cell_type": "code",
      "source": [
        "# Put your code here\n",
        "print(\"My name is your name and family and I am your age years old\")"
      ],
      "metadata": {
        "id": "ZPFv-QScHM8N",
        "colab": {
          "base_uri": "https://localhost:8080/"
        },
        "outputId": "fd9d6c9b-2295-4d79-888b-de6fa17e6e94"
      },
      "execution_count": null,
      "outputs": [
        {
          "output_type": "stream",
          "name": "stdout",
          "text": [
            "My name is your name and family and I am your age years old\n"
          ]
        }
      ]
    },
    {
      "cell_type": "code",
      "source": [
        "x = \"awesome\"\n",
        "print(\"Data analytics is \" + x)\n",
        "\n"
      ],
      "metadata": {
        "id": "ESQg_fIdQ7oW",
        "colab": {
          "base_uri": "https://localhost:8080/"
        },
        "outputId": "37cbff07-f61a-4279-c041-537f9ba052a1"
      },
      "execution_count": null,
      "outputs": [
        {
          "output_type": "stream",
          "name": "stdout",
          "text": [
            "Data analytics is awesome\n"
          ]
        }
      ]
    },
    {
      "cell_type": "code",
      "source": [
        "x = \"Python is \"\n",
        "y = \"awesome\"\n",
        "z =  x + y\n",
        "print(x,y)"
      ],
      "metadata": {
        "colab": {
          "base_uri": "https://localhost:8080/"
        },
        "id": "158gH2qSRPJ2",
        "outputId": "b3aa295e-0eb5-4c63-8108-f438ef2bf2ed"
      },
      "execution_count": null,
      "outputs": [
        {
          "output_type": "stream",
          "name": "stdout",
          "text": [
            "Python is  awesome\n"
          ]
        }
      ]
    },
    {
      "cell_type": "markdown",
      "source": [
        "Can you write print(z) insreat try it."
      ],
      "metadata": {
        "id": "U3OmfwvORniK"
      }
    },
    {
      "cell_type": "code",
      "source": [
        "#Your code\n",
        "print(z)"
      ],
      "metadata": {
        "id": "L7piagZGRzJw",
        "colab": {
          "base_uri": "https://localhost:8080/"
        },
        "outputId": "db05ee2b-6559-43e5-d487-54818e86171b"
      },
      "execution_count": null,
      "outputs": [
        {
          "output_type": "stream",
          "name": "stdout",
          "text": [
            "Python is awesome\n"
          ]
        }
      ]
    },
    {
      "cell_type": "markdown",
      "source": [
        "![image.png]()"
      ],
      "metadata": {
        "id": "3nGOPWvnGsc1"
      }
    },
    {
      "cell_type": "markdown",
      "source": [
        "What is wrong with the following code and how you can fix it?\n",
        "x = 5\n",
        "y = \"John\"\n",
        "print(x + y)"
      ],
      "metadata": {
        "id": "C41n91TcSLoj"
      }
    },
    {
      "cell_type": "code",
      "source": [
        "#Your code\n",
        "\n",
        "x = 5\n",
        "y = \"John\"\n",
        "print(str(x) + \" \" + y)"
      ],
      "metadata": {
        "id": "SZaUktpwSVdT",
        "colab": {
          "base_uri": "https://localhost:8080/"
        },
        "outputId": "3d393c25-eda9-4b83-a725-a975197d3415"
      },
      "execution_count": 35,
      "outputs": [
        {
          "output_type": "stream",
          "name": "stdout",
          "text": [
            "5 John\n"
          ]
        }
      ]
    },
    {
      "cell_type": "markdown",
      "source": [
        "1.\tStore a person’s name in a variable, and print a message to that person. Your message should be simple, such as, “Hello John, what are you doing after class?”\n",
        "\n",
        "2.\tStore someone you knows name in a variable called name.  Print their name in lower and uppercase\n",
        "\n",
        "3.\tCreate a string that adds white space using “\\t”.  Then use the function to strip the white space from your string."
      ],
      "metadata": {
        "id": "BXgltoXEHwb6"
      }
    },
    {
      "cell_type": "code",
      "source": [
        "# Your code here\n",
        "\n",
        "name = \"John\"\n",
        "print(\"Hello \" + name + \" , what are you doing after class\")\n",
        "print(name.upper())\n",
        "name2 = \"John\\t\"\n",
        "print(name2.strip())"
      ],
      "metadata": {
        "id": "RrEo1GEYITzK",
        "colab": {
          "base_uri": "https://localhost:8080/"
        },
        "outputId": "6c12cc98-56c6-4432-b78e-ace38b480cfa"
      },
      "execution_count": 37,
      "outputs": [
        {
          "output_type": "stream",
          "name": "stdout",
          "text": [
            "Hello John , what are you doing after class\n",
            "JOHN\n",
            "John\n"
          ]
        }
      ]
    },
    {
      "cell_type": "markdown",
      "source": [
        "The format() method formats the specified value(s) and insert them inside the string's placeholder.\n",
        "\n",
        "The placeholder is defined using curly brackets: {}.\n",
        "\n",
        "Syntaxt:\n",
        "string.format(value1, value2...)"
      ],
      "metadata": {
        "id": "lUEF8ZmBH7cT"
      }
    },
    {
      "cell_type": "code",
      "execution_count": 43,
      "metadata": {
        "colab": {
          "base_uri": "https://localhost:8080/"
        },
        "id": "Nji1_UjYL9fY",
        "outputId": "574d0288-8c42-45af-f389-5155c6986013"
      },
      "outputs": [
        {
          "output_type": "stream",
          "name": "stdout",
          "text": [
            "hello world 12\n"
          ]
        }
      ],
      "source": [
        "hw12 = '{} {} {}'.format(\"hello\", \"world\", 12)  # string formatting\n",
        "print(hw12)"
      ]
    },
    {
      "cell_type": "code",
      "source": [
        "txt = \"For only {price:.2f} dollars!\"\n",
        "print(txt.format(price = 49))"
      ],
      "metadata": {
        "colab": {
          "base_uri": "https://localhost:8080/"
        },
        "id": "EMk3QlAjKCOE",
        "outputId": "2497335d-c35d-4f0d-8158-c3db5704d100"
      },
      "execution_count": 44,
      "outputs": [
        {
          "output_type": "stream",
          "name": "stdout",
          "text": [
            "For only 49.00 dollars!\n"
          ]
        }
      ]
    },
    {
      "cell_type": "code",
      "source": [
        "#named indexes:\n",
        "txt1 = \"My name is {fname}, I'm {age}\".format(fname = \"John\", age = 36)\n",
        "#numbered indexes:\n",
        "txt2 = \"My name is {0}, I'm {1}\".format(\"John\",36)\n",
        "#empty placeholders:\n",
        "txt3 = \"My name is {}, I'm {}\".format(\"John\",36)\n",
        "\n",
        "print(txt1)\n",
        "print(txt2)\n",
        "print(txt3)\n",
        "\n"
      ],
      "metadata": {
        "colab": {
          "base_uri": "https://localhost:8080/"
        },
        "id": "HrgPV-UIKWJO",
        "outputId": "3b8018dd-579f-4e08-8737-98423769383f"
      },
      "execution_count": 45,
      "outputs": [
        {
          "output_type": "stream",
          "name": "stdout",
          "text": [
            "My name is John, I'm 36\n",
            "My name is John, I'm 36\n",
            "My name is John, I'm 36\n"
          ]
        }
      ]
    },
    {
      "cell_type": "markdown",
      "metadata": {
        "id": "bUpl35bIL9fc"
      },
      "source": [
        "String objects have a bunch of useful methods; for example:"
      ]
    },
    {
      "cell_type": "code",
      "execution_count": 46,
      "metadata": {
        "colab": {
          "base_uri": "https://localhost:8080/"
        },
        "id": "VOxGatlsL9fd",
        "outputId": "db770051-445e-4e54-9fe1-4eeb4a25f0c1"
      },
      "outputs": [
        {
          "output_type": "stream",
          "name": "stdout",
          "text": [
            "Hello\n",
            "HELLO\n",
            "  hello\n",
            " hello \n",
            "he(ell)(ell)o\n",
            "world\n"
          ]
        }
      ],
      "source": [
        "s = \"hello\"\n",
        "print(s.capitalize())  # Capitalize a string\n",
        "print(s.upper())       # Convert a string to uppercase; prints \"HELLO\"\n",
        "print(s.rjust(7))      # Right-justify a string, padding with spaces\n",
        "print(s.center(7))     # Center a string, padding with spaces\n",
        "print(s.replace('l', '(ell)'))  # Replace all instances of one substring with another\n",
        "print('  world '.strip())  # Strip leading and trailing whitespace"
      ]
    },
    {
      "cell_type": "markdown",
      "source": [
        "Do the above on your firt name."
      ],
      "metadata": {
        "id": "DUdc8ijEKtKH"
      }
    },
    {
      "cell_type": "code",
      "source": [
        "#Your code for the above\n",
        "s = \"Juan\"\n",
        "print(s.capitalize())  \n",
        "print(s.upper())       \n",
        "print(s.rjust(7))      \n",
        "print(s.center(7))     \n",
        "print(s.replace('J', '(uan)'))  \n",
        "print('  juan '.strip()) "
      ],
      "metadata": {
        "id": "4dQGKdUSKzTR",
        "colab": {
          "base_uri": "https://localhost:8080/"
        },
        "outputId": "e6b9b8f6-8e23-4fa0-d177-8fc51b68c042"
      },
      "execution_count": 49,
      "outputs": [
        {
          "output_type": "stream",
          "name": "stdout",
          "text": [
            "Juan\n",
            "JUAN\n",
            "   Juan\n",
            "  Juan \n",
            "(uan)uan\n",
            "juan\n"
          ]
        }
      ]
    },
    {
      "cell_type": "markdown",
      "metadata": {
        "id": "06cayXLtL9fi"
      },
      "source": [
        "You can find a list of all string methods in the [documentation](https://docs.python.org/3.7/library/stdtypes.html#string-methods)."
      ]
    },
    {
      "cell_type": "markdown",
      "metadata": {
        "id": "p-6hClFjL9fk"
      },
      "source": [
        "###Containers"
      ]
    },
    {
      "cell_type": "markdown",
      "metadata": {
        "id": "FD9H18eQL9fk"
      },
      "source": [
        "Python includes several built-in container types: lists, dictionaries, sets, and tuples."
      ]
    },
    {
      "cell_type": "markdown",
      "metadata": {
        "id": "UsIWOe0LL9fn"
      },
      "source": [
        "####Lists"
      ]
    },
    {
      "cell_type": "markdown",
      "metadata": {
        "id": "wzxX7rgWL9fn"
      },
      "source": [
        "A list is the Python equivalent of an array, but is resizeable and can contain elements of different types:"
      ]
    },
    {
      "cell_type": "code",
      "execution_count": null,
      "metadata": {
        "colab": {
          "base_uri": "https://localhost:8080/",
          "height": 52
        },
        "id": "hk3A8pPcL9fp",
        "outputId": "b545939a-580c-4356-db95-7ad3670b46e4"
      },
      "outputs": [
        {
          "name": "stdout",
          "output_type": "stream",
          "text": [
            "[3, 1, 2] 2\n",
            "2\n"
          ]
        }
      ],
      "source": [
        "xs = [3, 1, 2]   # Create a list\n",
        "print(xs, xs[2])\n",
        "print(xs[-1])     # Negative indices count from the end of the list; prints \"2\""
      ]
    },
    {
      "cell_type": "code",
      "execution_count": null,
      "metadata": {
        "colab": {
          "base_uri": "https://localhost:8080/",
          "height": 34
        },
        "id": "YCjCy_0_L9ft",
        "outputId": "417c54ff-170b-4372-9099-0f756f8e48af"
      },
      "outputs": [
        {
          "name": "stdout",
          "output_type": "stream",
          "text": [
            "[3, 1, 'foo']\n"
          ]
        }
      ],
      "source": [
        "xs[2] = 'foo'    # Lists can contain elements of different types\n",
        "print(xs)"
      ]
    },
    {
      "cell_type": "code",
      "execution_count": null,
      "metadata": {
        "colab": {
          "base_uri": "https://localhost:8080/",
          "height": 34
        },
        "id": "vJ0x5cF-L9fx",
        "outputId": "a97731a3-70e1-4553-d9e0-2aea227cac80"
      },
      "outputs": [
        {
          "name": "stdout",
          "output_type": "stream",
          "text": [
            "[3, 1, 'foo', 'bar']\n"
          ]
        }
      ],
      "source": [
        "xs.append('bar') # Add a new element to the end of the list\n",
        "print(xs)  "
      ]
    },
    {
      "cell_type": "code",
      "execution_count": null,
      "metadata": {
        "colab": {
          "base_uri": "https://localhost:8080/",
          "height": 34
        },
        "id": "cxVCNRTNL9f1",
        "outputId": "508fbe59-20aa-48b5-a1b2-f90363e7a104"
      },
      "outputs": [
        {
          "name": "stdout",
          "output_type": "stream",
          "text": [
            "bar [3, 1, 'foo']\n"
          ]
        }
      ],
      "source": [
        "x = xs.pop()     # Remove and return the last element of the list\n",
        "print(x, xs)"
      ]
    },
    {
      "cell_type": "markdown",
      "metadata": {
        "id": "ilyoyO34L9f4"
      },
      "source": [
        "As usual, you can find all the gory details about lists in the [documentation](https://docs.python.org/3.7/tutorial/datastructures.html#more-on-lists)."
      ]
    },
    {
      "cell_type": "markdown",
      "metadata": {
        "id": "ovahhxd_L9f5"
      },
      "source": [
        "####Slicing"
      ]
    },
    {
      "cell_type": "markdown",
      "metadata": {
        "id": "YeSYKhv9L9f6"
      },
      "source": [
        "In addition to accessing list elements one at a time, Python provides concise syntax to access sublists; this is known as slicing:"
      ]
    },
    {
      "cell_type": "code",
      "execution_count": null,
      "metadata": {
        "colab": {
          "base_uri": "https://localhost:8080/",
          "height": 139
        },
        "id": "ninq666bL9f6",
        "outputId": "c3c2ed92-7358-4fdb-bbc0-e90f82e7e941"
      },
      "outputs": [
        {
          "name": "stdout",
          "output_type": "stream",
          "text": [
            "[0, 1, 2, 3, 4]\n",
            "[2, 3]\n",
            "[2, 3, 4]\n",
            "[0, 1]\n",
            "[0, 1, 2, 3, 4]\n",
            "[0, 1, 2, 3]\n",
            "[0, 1, 8, 9, 4]\n"
          ]
        }
      ],
      "source": [
        "nums = list(range(5))    # range is a built-in function that creates a list of integers\n",
        "print(nums)         # Prints \"[0, 1, 2, 3, 4]\"\n",
        "print(nums[2:4])    # Get a slice from index 2 to 4 (exclusive); prints \"[2, 3]\"\n",
        "print(nums[2:])     # Get a slice from index 2 to the end; prints \"[2, 3, 4]\"\n",
        "print(nums[:2])     # Get a slice from the start to index 2 (exclusive); prints \"[0, 1]\"\n",
        "print(nums[:])      # Get a slice of the whole list; prints [\"0, 1, 2, 3, 4]\"\n",
        "print(nums[:-1])    # Slice indices can be negative; prints [\"0, 1, 2, 3]\"\n",
        "nums[2:4] = [8, 9] # Assign a new sublist to a slice\n",
        "print(nums)         # Prints \"[0, 1, 8, 9, 4]\""
      ]
    },
    {
      "cell_type": "markdown",
      "metadata": {
        "id": "UONpMhF4L9f_"
      },
      "source": [
        "####Loops"
      ]
    },
    {
      "cell_type": "markdown",
      "metadata": {
        "id": "_DYz1j6QL9f_"
      },
      "source": [
        "You can loop over the elements of a list like this:"
      ]
    },
    {
      "cell_type": "code",
      "execution_count": null,
      "metadata": {
        "colab": {
          "base_uri": "https://localhost:8080/",
          "height": 69
        },
        "id": "4cCOysfWL9gA",
        "outputId": "560e46c7-279c-409a-838c-64bea8d321c4"
      },
      "outputs": [
        {
          "name": "stdout",
          "output_type": "stream",
          "text": [
            "cat\n",
            "dog\n",
            "monkey\n"
          ]
        }
      ],
      "source": [
        "animals = ['cat', 'dog', 'monkey']\n",
        "for animal in animals:\n",
        "    print(animal)"
      ]
    },
    {
      "cell_type": "markdown",
      "metadata": {
        "id": "KxIaQs7pL9gE"
      },
      "source": [
        "If you want access to the index of each element within the body of a loop, use the built-in `enumerate` function:"
      ]
    },
    {
      "cell_type": "code",
      "execution_count": null,
      "metadata": {
        "colab": {
          "base_uri": "https://localhost:8080/",
          "height": 69
        },
        "id": "JjGnDluWL9gF",
        "outputId": "81421905-17ea-4c5a-bcc0-176de19fd9bd"
      },
      "outputs": [
        {
          "name": "stdout",
          "output_type": "stream",
          "text": [
            "#1: cat\n",
            "#2: dog\n",
            "#3: monkey\n"
          ]
        }
      ],
      "source": [
        "animals = ['cat', 'dog', 'monkey']\n",
        "for idx, animal in enumerate(animals):\n",
        "    print('#{}: {}'.format(idx + 1, animal))"
      ]
    },
    {
      "cell_type": "markdown",
      "metadata": {
        "id": "arrLCcMyL9gK"
      },
      "source": [
        "####List comprehensions:"
      ]
    },
    {
      "cell_type": "markdown",
      "metadata": {
        "id": "5Qn2jU_pL9gL"
      },
      "source": [
        "When programming, frequently we want to transform one type of data into another. As a simple example, consider the following code that computes square numbers:"
      ]
    },
    {
      "cell_type": "code",
      "execution_count": null,
      "metadata": {
        "colab": {
          "base_uri": "https://localhost:8080/",
          "height": 34
        },
        "id": "IVNEwoMXL9gL",
        "outputId": "d571445b-055d-45f0-f800-24fd76ceec5a"
      },
      "outputs": [
        {
          "name": "stdout",
          "output_type": "stream",
          "text": [
            "[0, 1, 4, 9, 16]\n"
          ]
        }
      ],
      "source": [
        "nums = [0, 1, 2, 3, 4]\n",
        "squares = []\n",
        "for x in nums:\n",
        "    squares.append(x ** 2)\n",
        "print(squares)"
      ]
    },
    {
      "cell_type": "markdown",
      "source": [
        ""
      ],
      "metadata": {
        "id": "8NTvsb4jHbmw"
      }
    },
    {
      "cell_type": "markdown",
      "metadata": {
        "id": "7DmKVUFaL9gQ"
      },
      "source": [
        "You can make this code simpler using a list comprehension:"
      ]
    },
    {
      "cell_type": "code",
      "execution_count": null,
      "metadata": {
        "colab": {
          "base_uri": "https://localhost:8080/",
          "height": 34
        },
        "id": "kZxsUfV6L9gR",
        "outputId": "4254a7d4-58ba-4f70-a963-20c46b485b72"
      },
      "outputs": [
        {
          "name": "stdout",
          "output_type": "stream",
          "text": [
            "[0, 1, 4, 9, 16]\n"
          ]
        }
      ],
      "source": [
        "nums = [0, 1, 2, 3, 4]\n",
        "squares = [x ** 2 for x in nums]\n",
        "print(squares)"
      ]
    },
    {
      "cell_type": "markdown",
      "metadata": {
        "id": "-D8ARK7tL9gV"
      },
      "source": [
        "List comprehensions can also contain conditions:"
      ]
    },
    {
      "cell_type": "code",
      "execution_count": null,
      "metadata": {
        "colab": {
          "base_uri": "https://localhost:8080/",
          "height": 34
        },
        "id": "yUtgOyyYL9gV",
        "outputId": "1ae7ab58-8119-44dc-8e57-fda09197d026"
      },
      "outputs": [
        {
          "name": "stdout",
          "output_type": "stream",
          "text": [
            "[0, 4, 16]\n"
          ]
        }
      ],
      "source": [
        "nums = [0, 1, 2, 3, 4]\n",
        "even_squares = [x ** 2 for x in nums if x % 2 == 0]\n",
        "print(even_squares)"
      ]
    },
    {
      "cell_type": "markdown",
      "metadata": {
        "id": "H8xsUEFpL9gZ"
      },
      "source": [
        "####Dictionaries"
      ]
    },
    {
      "cell_type": "markdown",
      "metadata": {
        "id": "kkjAGMAJL9ga"
      },
      "source": [
        "A dictionary stores (key, value) pairs, similar to a `Map` in Java or an object in Javascript. You can use it like this:"
      ]
    },
    {
      "cell_type": "code",
      "execution_count": null,
      "metadata": {
        "colab": {
          "base_uri": "https://localhost:8080/",
          "height": 52
        },
        "id": "XBYI1MrYL9gb",
        "outputId": "8e24c1da-0fc0-4b4c-a3e6-6f758a53b7da"
      },
      "outputs": [
        {
          "name": "stdout",
          "output_type": "stream",
          "text": [
            "cute\n",
            "True\n"
          ]
        }
      ],
      "source": [
        "d = {'cat': 'cute', 'dog': 'furry'}  # Create a new dictionary with some data\n",
        "print(d['cat'])       # Get an entry from a dictionary; prints \"cute\"\n",
        "print('cat' in d)     # Check if a dictionary has a given key; prints \"True\""
      ]
    },
    {
      "cell_type": "code",
      "execution_count": null,
      "metadata": {
        "colab": {
          "base_uri": "https://localhost:8080/",
          "height": 34
        },
        "id": "pS7e-G-HL9gf",
        "outputId": "feb4bf18-c0a3-42a2-eaf5-3fc390f36dcf"
      },
      "outputs": [
        {
          "name": "stdout",
          "output_type": "stream",
          "text": [
            "wet\n"
          ]
        }
      ],
      "source": [
        "d['fish'] = 'wet'    # Set an entry in a dictionary\n",
        "print(d['fish'])      # Prints \"wet\""
      ]
    },
    {
      "cell_type": "code",
      "execution_count": null,
      "metadata": {
        "colab": {
          "base_uri": "https://localhost:8080/",
          "height": 165
        },
        "id": "tFY065ItL9gi",
        "outputId": "7e42a5f0-1856-4608-a927-0930ab37a66c"
      },
      "outputs": [
        {
          "ename": "KeyError",
          "evalue": "ignored",
          "output_type": "error",
          "traceback": [
            "\u001b[0;31m---------------------------------------------------------------------------\u001b[0m",
            "\u001b[0;31mKeyError\u001b[0m                                  Traceback (most recent call last)",
            "\u001b[0;32m<ipython-input-31-78fc9745d9cf>\u001b[0m in \u001b[0;36m<module>\u001b[0;34m()\u001b[0m\n\u001b[0;32m----> 1\u001b[0;31m \u001b[0mprint\u001b[0m\u001b[0;34m(\u001b[0m\u001b[0md\u001b[0m\u001b[0;34m[\u001b[0m\u001b[0;34m'monkey'\u001b[0m\u001b[0;34m]\u001b[0m\u001b[0;34m)\u001b[0m  \u001b[0;31m# KeyError: 'monkey' not a key of d\u001b[0m\u001b[0;34m\u001b[0m\u001b[0;34m\u001b[0m\u001b[0m\n\u001b[0m",
            "\u001b[0;31mKeyError\u001b[0m: 'monkey'"
          ]
        }
      ],
      "source": [
        "print(d['monkey'])  # KeyError: 'monkey' not a key of d"
      ]
    },
    {
      "cell_type": "code",
      "execution_count": null,
      "metadata": {
        "colab": {
          "base_uri": "https://localhost:8080/",
          "height": 52
        },
        "id": "8TjbEWqML9gl",
        "outputId": "ef14d05e-401d-4d23-ed1a-0fe6b4c77d6f"
      },
      "outputs": [
        {
          "name": "stdout",
          "output_type": "stream",
          "text": [
            "N/A\n",
            "wet\n"
          ]
        }
      ],
      "source": [
        "print(d.get('monkey', 'N/A'))  # Get an element with a default; prints \"N/A\"\n",
        "print(d.get('fish', 'N/A'))    # Get an element with a default; prints \"wet\""
      ]
    },
    {
      "cell_type": "code",
      "execution_count": null,
      "metadata": {
        "colab": {
          "base_uri": "https://localhost:8080/",
          "height": 34
        },
        "id": "0EItdNBJL9go",
        "outputId": "652a950f-b0c2-4623-98bd-0191b300cd57"
      },
      "outputs": [
        {
          "name": "stdout",
          "output_type": "stream",
          "text": [
            "N/A\n"
          ]
        }
      ],
      "source": [
        "del d['fish']        # Remove an element from a dictionary\n",
        "print(d.get('fish', 'N/A')) # \"fish\" is no longer a key; prints \"N/A\""
      ]
    },
    {
      "cell_type": "markdown",
      "metadata": {
        "id": "wqm4dRZNL9gr"
      },
      "source": [
        "You can find all you need to know about dictionaries in the [documentation](https://docs.python.org/2/library/stdtypes.html#dict)."
      ]
    },
    {
      "cell_type": "markdown",
      "metadata": {
        "id": "IxwEqHlGL9gr"
      },
      "source": [
        "It is easy to iterate over the keys in a dictionary:"
      ]
    },
    {
      "cell_type": "code",
      "execution_count": null,
      "metadata": {
        "colab": {
          "base_uri": "https://localhost:8080/",
          "height": 69
        },
        "id": "rYfz7ZKNL9gs",
        "outputId": "155bdb17-3179-4292-c832-8166e955e942"
      },
      "outputs": [
        {
          "name": "stdout",
          "output_type": "stream",
          "text": [
            "A person has 2 legs\n",
            "A cat has 4 legs\n",
            "A spider has 8 legs\n"
          ]
        }
      ],
      "source": [
        "d = {'person': 2, 'cat': 4, 'spider': 8}\n",
        "for animal, legs in d.items():\n",
        "    print('A {} has {} legs'.format(animal, legs))"
      ]
    },
    {
      "cell_type": "markdown",
      "metadata": {
        "id": "17sxiOpzL9gz"
      },
      "source": [
        "Dictionary comprehensions: These are similar to list comprehensions, but allow you to easily construct dictionaries. For example:"
      ]
    },
    {
      "cell_type": "code",
      "execution_count": null,
      "metadata": {
        "colab": {
          "base_uri": "https://localhost:8080/",
          "height": 34
        },
        "id": "8PB07imLL9gz",
        "outputId": "e9ddf886-39ed-4f35-dd80-64a19d2eec9b"
      },
      "outputs": [
        {
          "name": "stdout",
          "output_type": "stream",
          "text": [
            "{0: 0, 2: 4, 4: 16}\n"
          ]
        }
      ],
      "source": [
        "nums = [0, 1, 2, 3, 4]\n",
        "even_num_to_square = {x: x ** 2 for x in nums if x % 2 == 0}\n",
        "print(even_num_to_square)"
      ]
    },
    {
      "cell_type": "markdown",
      "metadata": {
        "id": "V9MHfUdvL9g2"
      },
      "source": [
        "####Sets"
      ]
    },
    {
      "cell_type": "markdown",
      "metadata": {
        "id": "Rpm4UtNpL9g2"
      },
      "source": [
        "A set is an unordered collection of distinct elements. As a simple example, consider the following:"
      ]
    },
    {
      "cell_type": "code",
      "execution_count": null,
      "metadata": {
        "colab": {
          "base_uri": "https://localhost:8080/",
          "height": 52
        },
        "id": "MmyaniLsL9g2",
        "outputId": "8f152d48-0a07-432a-cf98-8de4fd57ddbb"
      },
      "outputs": [
        {
          "name": "stdout",
          "output_type": "stream",
          "text": [
            "True\n",
            "False\n"
          ]
        }
      ],
      "source": [
        "animals = {'cat', 'dog'}\n",
        "print('cat' in animals)   # Check if an element is in a set; prints \"True\"\n",
        "print('fish' in animals)  # prints \"False\"\n"
      ]
    },
    {
      "cell_type": "code",
      "execution_count": null,
      "metadata": {
        "colab": {
          "base_uri": "https://localhost:8080/",
          "height": 52
        },
        "id": "ElJEyK86L9g6",
        "outputId": "b9d7dab9-5a98-41cd-efbc-786d0c4377f7"
      },
      "outputs": [
        {
          "name": "stdout",
          "output_type": "stream",
          "text": [
            "True\n",
            "3\n"
          ]
        }
      ],
      "source": [
        "animals.add('fish')      # Add an element to a set\n",
        "print('fish' in animals)\n",
        "print(len(animals))       # Number of elements in a set;"
      ]
    },
    {
      "cell_type": "code",
      "execution_count": null,
      "metadata": {
        "colab": {
          "base_uri": "https://localhost:8080/",
          "height": 52
        },
        "id": "5uGmrxdPL9g9",
        "outputId": "e644d24c-26c6-4b43-ab15-8aa81fe884d4"
      },
      "outputs": [
        {
          "name": "stdout",
          "output_type": "stream",
          "text": [
            "3\n",
            "2\n"
          ]
        }
      ],
      "source": [
        "animals.add('cat')       # Adding an element that is already in the set does nothing\n",
        "print(len(animals))       \n",
        "animals.remove('cat')    # Remove an element from a set\n",
        "print(len(animals))       "
      ]
    },
    {
      "cell_type": "markdown",
      "metadata": {
        "id": "zk2DbvLKL9g_"
      },
      "source": [
        "_Loops_: Iterating over a set has the same syntax as iterating over a list; however since sets are unordered, you cannot make assumptions about the order in which you visit the elements of the set:"
      ]
    },
    {
      "cell_type": "code",
      "execution_count": null,
      "metadata": {
        "colab": {
          "base_uri": "https://localhost:8080/",
          "height": 69
        },
        "id": "K47KYNGyL9hA",
        "outputId": "4477f897-4355-4816-b39b-b93ffbac4bf0"
      },
      "outputs": [
        {
          "name": "stdout",
          "output_type": "stream",
          "text": [
            "#1: dog\n",
            "#2: cat\n",
            "#3: fish\n"
          ]
        }
      ],
      "source": [
        "animals = {'cat', 'dog', 'fish'}\n",
        "for idx, animal in enumerate(animals):\n",
        "    print('#{}: {}'.format(idx + 1, animal))"
      ]
    },
    {
      "cell_type": "markdown",
      "metadata": {
        "id": "puq4S8buL9hC"
      },
      "source": [
        "Set comprehensions: Like lists and dictionaries, we can easily construct sets using set comprehensions:"
      ]
    },
    {
      "cell_type": "code",
      "execution_count": null,
      "metadata": {
        "colab": {
          "base_uri": "https://localhost:8080/",
          "height": 34
        },
        "id": "iw7k90k3L9hC",
        "outputId": "72d6b824-6d31-47b2-f929-4cf434590ee5"
      },
      "outputs": [
        {
          "name": "stdout",
          "output_type": "stream",
          "text": [
            "{0, 1, 2, 3, 4, 5}\n"
          ]
        }
      ],
      "source": [
        "from math import sqrt\n",
        "print({int(sqrt(x)) for x in range(30)})"
      ]
    },
    {
      "cell_type": "markdown",
      "metadata": {
        "id": "qPsHSKB1L9hF"
      },
      "source": [
        "####Tuples"
      ]
    },
    {
      "cell_type": "markdown",
      "metadata": {
        "id": "kucc0LKVL9hG"
      },
      "source": [
        "A tuple is an (immutable) ordered list of values. A tuple is in many ways similar to a list; one of the most important differences is that tuples can be used as keys in dictionaries and as elements of sets, while lists cannot. Here is a trivial example:"
      ]
    },
    {
      "cell_type": "code",
      "execution_count": null,
      "metadata": {
        "colab": {
          "base_uri": "https://localhost:8080/",
          "height": 69
        },
        "id": "9wHUyTKxL9hH",
        "outputId": "cdc5f620-04fe-4b0b-df7a-55b061d23d88"
      },
      "outputs": [
        {
          "name": "stdout",
          "output_type": "stream",
          "text": [
            "<class 'tuple'>\n",
            "5\n",
            "1\n"
          ]
        }
      ],
      "source": [
        "d = {(x, x + 1): x for x in range(10)}  # Create a dictionary with tuple keys\n",
        "t = (5, 6)       # Create a tuple\n",
        "print(type(t))\n",
        "print(d[t])       \n",
        "print(d[(1, 2)])"
      ]
    },
    {
      "cell_type": "code",
      "execution_count": null,
      "metadata": {
        "colab": {
          "base_uri": "https://localhost:8080/",
          "height": 165
        },
        "id": "HoO8zYKzL9hJ",
        "outputId": "28862bfc-0298-40d7-f8c4-168e109d2d93"
      },
      "outputs": [
        {
          "ename": "TypeError",
          "evalue": "ignored",
          "output_type": "error",
          "traceback": [
            "\u001b[0;31m---------------------------------------------------------------------------\u001b[0m",
            "\u001b[0;31mTypeError\u001b[0m                                 Traceback (most recent call last)",
            "\u001b[0;32m<ipython-input-43-c8aeb8cd20ae>\u001b[0m in \u001b[0;36m<module>\u001b[0;34m()\u001b[0m\n\u001b[0;32m----> 1\u001b[0;31m \u001b[0mt\u001b[0m\u001b[0;34m[\u001b[0m\u001b[0;36m0\u001b[0m\u001b[0;34m]\u001b[0m \u001b[0;34m=\u001b[0m \u001b[0;36m1\u001b[0m\u001b[0;34m\u001b[0m\u001b[0;34m\u001b[0m\u001b[0m\n\u001b[0m",
            "\u001b[0;31mTypeError\u001b[0m: 'tuple' object does not support item assignment"
          ]
        }
      ],
      "source": [
        "t[0] = 1"
      ]
    },
    {
      "cell_type": "markdown",
      "metadata": {
        "id": "AXA4jrEOL9hM"
      },
      "source": [
        "###Functions"
      ]
    },
    {
      "cell_type": "markdown",
      "metadata": {
        "id": "WaRms-QfL9hN"
      },
      "source": [
        "Python functions are defined using the `def` keyword. For example:"
      ]
    },
    {
      "cell_type": "code",
      "execution_count": null,
      "metadata": {
        "colab": {
          "base_uri": "https://localhost:8080/",
          "height": 69
        },
        "id": "kiMDUr58L9hN",
        "outputId": "9f53bf9a-7b2a-4c51-9def-398e4677cd6c"
      },
      "outputs": [
        {
          "name": "stdout",
          "output_type": "stream",
          "text": [
            "negative\n",
            "zero\n",
            "positive\n"
          ]
        }
      ],
      "source": [
        "def sign(x):\n",
        "    if x > 0:\n",
        "        return 'positive'\n",
        "    elif x < 0:\n",
        "        return 'negative'\n",
        "    else:\n",
        "        return 'zero'\n",
        "\n",
        "for x in [-1, 0, 1]:\n",
        "    print(sign(x))"
      ]
    },
    {
      "cell_type": "markdown",
      "metadata": {
        "id": "U-QJFt8TL9hR"
      },
      "source": [
        "We will often define functions to take optional keyword arguments, like this:"
      ]
    },
    {
      "cell_type": "code",
      "execution_count": null,
      "metadata": {
        "colab": {
          "base_uri": "https://localhost:8080/",
          "height": 52
        },
        "id": "PfsZ3DazL9hR",
        "outputId": "6e6af832-67d8-4d8c-949b-335927684ae3"
      },
      "outputs": [
        {
          "name": "stdout",
          "output_type": "stream",
          "text": [
            "Hello, Bob!\n",
            "HELLO, FRED\n"
          ]
        }
      ],
      "source": [
        "def hello(name, loud=False):\n",
        "    if loud:\n",
        "        print('HELLO, {}'.format(name.upper()))\n",
        "    else:\n",
        "        print('Hello, {}!'.format(name))\n",
        "\n",
        "hello('Bob')\n",
        "hello('Fred', loud=True)"
      ]
    },
    {
      "cell_type": "markdown",
      "metadata": {
        "id": "ObA9PRtQL9hT"
      },
      "source": [
        "###Classes"
      ]
    },
    {
      "cell_type": "markdown",
      "metadata": {
        "id": "hAzL_lTkL9hU"
      },
      "source": [
        "The syntax for defining classes in Python is straightforward:"
      ]
    },
    {
      "cell_type": "code",
      "execution_count": null,
      "metadata": {
        "colab": {
          "base_uri": "https://localhost:8080/",
          "height": 52
        },
        "id": "RWdbaGigL9hU",
        "outputId": "4f6615c5-75a7-4ce4-8ea1-1e7f5e4e9fc3"
      },
      "outputs": [
        {
          "name": "stdout",
          "output_type": "stream",
          "text": [
            "Hello, Fred!\n",
            "HELLO, FRED\n"
          ]
        }
      ],
      "source": [
        "class Greeter:\n",
        "\n",
        "    # Constructor\n",
        "    def __init__(self, name):\n",
        "        self.name = name  # Create an instance variable\n",
        "\n",
        "    # Instance method\n",
        "    def greet(self, loud=False):\n",
        "        if loud:\n",
        "          print('HELLO, {}'.format(self.name.upper()))\n",
        "        else:\n",
        "          print('Hello, {}!'.format(self.name))\n",
        "\n",
        "g = Greeter('Fred')  # Construct an instance of the Greeter class\n",
        "g.greet()            # Call an instance method; prints \"Hello, Fred\"\n",
        "g.greet(loud=True)   # Call an instance method; prints \"HELLO, FRED!\""
      ]
    },
    {
      "cell_type": "markdown",
      "metadata": {
        "id": "3cfrOV4dL9hW"
      },
      "source": [
        "##Numpy"
      ]
    },
    {
      "cell_type": "markdown",
      "metadata": {
        "id": "fY12nHhyL9hX"
      },
      "source": [
        "Numpy is the core library for scientific computing in Python. It provides a high-performance multidimensional array object, and tools for working with these arrays. If you are already familiar with MATLAB, you might find this [tutorial](http://wiki.scipy.org/NumPy_for_Matlab_Users) useful to get started with Numpy."
      ]
    },
    {
      "cell_type": "markdown",
      "metadata": {
        "id": "lZMyAdqhL9hY"
      },
      "source": [
        "To use Numpy, we first need to import the `numpy` package:"
      ]
    },
    {
      "cell_type": "code",
      "execution_count": null,
      "metadata": {
        "id": "58QdX8BLL9hZ"
      },
      "outputs": [],
      "source": [
        "import numpy as np"
      ]
    },
    {
      "cell_type": "markdown",
      "metadata": {
        "id": "DDx6v1EdL9hb"
      },
      "source": [
        "###Arrays"
      ]
    },
    {
      "cell_type": "markdown",
      "metadata": {
        "id": "f-Zv3f7LL9hc"
      },
      "source": [
        "A numpy array is a grid of values, all of the same type, and is indexed by a tuple of nonnegative integers. The number of dimensions is the rank of the array; the shape of an array is a tuple of integers giving the size of the array along each dimension."
      ]
    },
    {
      "cell_type": "markdown",
      "metadata": {
        "id": "_eMTRnZRL9hc"
      },
      "source": [
        "We can initialize numpy arrays from nested Python lists, and access elements using square brackets:"
      ]
    },
    {
      "cell_type": "code",
      "execution_count": null,
      "metadata": {
        "colab": {
          "base_uri": "https://localhost:8080/",
          "height": 52
        },
        "id": "-l3JrGxCL9hc",
        "outputId": "8d9dad18-c734-4a8a-ca8c-44060a40fb79"
      },
      "outputs": [
        {
          "name": "stdout",
          "output_type": "stream",
          "text": [
            "<class 'numpy.ndarray'> (3,) 1 2 3\n",
            "[5 2 3]\n"
          ]
        }
      ],
      "source": [
        "a = np.array([1, 2, 3])  # Create a rank 1 array\n",
        "print(type(a), a.shape, a[0], a[1], a[2])\n",
        "a[0] = 5                 # Change an element of the array\n",
        "print(a)                  "
      ]
    },
    {
      "cell_type": "code",
      "execution_count": null,
      "metadata": {
        "colab": {
          "base_uri": "https://localhost:8080/",
          "height": 52
        },
        "id": "ma6mk-kdL9hh",
        "outputId": "0b54ff2f-e7f1-4b30-c653-9bf81cb8fbb0"
      },
      "outputs": [
        {
          "name": "stdout",
          "output_type": "stream",
          "text": [
            "[[1 2 3]\n",
            " [4 5 6]]\n"
          ]
        }
      ],
      "source": [
        "b = np.array([[1,2,3],[4,5,6]])   # Create a rank 2 array\n",
        "print(b)"
      ]
    },
    {
      "cell_type": "code",
      "execution_count": null,
      "metadata": {
        "colab": {
          "base_uri": "https://localhost:8080/",
          "height": 52
        },
        "id": "ymfSHAwtL9hj",
        "outputId": "5bd292d8-c751-43b9-d480-f357dde52342"
      },
      "outputs": [
        {
          "name": "stdout",
          "output_type": "stream",
          "text": [
            "(2, 3)\n",
            "1 2 4\n"
          ]
        }
      ],
      "source": [
        "print(b.shape)\n",
        "print(b[0, 0], b[0, 1], b[1, 0])"
      ]
    },
    {
      "cell_type": "markdown",
      "metadata": {
        "id": "F2qwdyvuL9hn"
      },
      "source": [
        "Numpy also provides many functions to create arrays:"
      ]
    },
    {
      "cell_type": "code",
      "execution_count": null,
      "metadata": {
        "colab": {
          "base_uri": "https://localhost:8080/",
          "height": 52
        },
        "id": "mVTN_EBqL9hn",
        "outputId": "d267c65f-ba90-4043-cedb-f468ab1bcc5d"
      },
      "outputs": [
        {
          "name": "stdout",
          "output_type": "stream",
          "text": [
            "[[0. 0.]\n",
            " [0. 0.]]\n"
          ]
        }
      ],
      "source": [
        "a = np.zeros((2,2))  # Create an array of all zeros\n",
        "print(a)"
      ]
    },
    {
      "cell_type": "code",
      "execution_count": null,
      "metadata": {
        "colab": {
          "base_uri": "https://localhost:8080/",
          "height": 34
        },
        "id": "skiKlNmlL9h5",
        "outputId": "7d1ec1b5-a1fe-4f44-cbe3-cdeacad425f1"
      },
      "outputs": [
        {
          "name": "stdout",
          "output_type": "stream",
          "text": [
            "[[1. 1.]]\n"
          ]
        }
      ],
      "source": [
        "b = np.ones((1,2))   # Create an array of all ones\n",
        "print(b)"
      ]
    },
    {
      "cell_type": "code",
      "execution_count": null,
      "metadata": {
        "colab": {
          "base_uri": "https://localhost:8080/",
          "height": 52
        },
        "id": "HtFsr03bL9h7",
        "outputId": "2688b157-2fad-4fc6-f20b-8633207f0326"
      },
      "outputs": [
        {
          "name": "stdout",
          "output_type": "stream",
          "text": [
            "[[7 7]\n",
            " [7 7]]\n"
          ]
        }
      ],
      "source": [
        "c = np.full((2,2), 7) # Create a constant array\n",
        "print(c)"
      ]
    },
    {
      "cell_type": "code",
      "execution_count": null,
      "metadata": {
        "colab": {
          "base_uri": "https://localhost:8080/",
          "height": 52
        },
        "id": "-QcALHvkL9h9",
        "outputId": "5035d6fe-cb7e-4222-c972-55fe23c9d4c0"
      },
      "outputs": [
        {
          "name": "stdout",
          "output_type": "stream",
          "text": [
            "[[1. 0.]\n",
            " [0. 1.]]\n"
          ]
        }
      ],
      "source": [
        "d = np.eye(2)        # Create a 2x2 identity matrix\n",
        "print(d)"
      ]
    },
    {
      "cell_type": "code",
      "execution_count": null,
      "metadata": {
        "colab": {
          "base_uri": "https://localhost:8080/",
          "height": 52
        },
        "id": "RCpaYg9qL9iA",
        "outputId": "25f0b387-39cf-42f3-8701-de860cc75e2e"
      },
      "outputs": [
        {
          "name": "stdout",
          "output_type": "stream",
          "text": [
            "[[0.8690054  0.57244319]\n",
            " [0.29647245 0.81464494]]\n"
          ]
        }
      ],
      "source": [
        "e = np.random.random((2,2)) # Create an array filled with random values\n",
        "print(e)"
      ]
    },
    {
      "cell_type": "markdown",
      "metadata": {
        "id": "jI5qcSDfL9iC"
      },
      "source": [
        "###Array indexing"
      ]
    },
    {
      "cell_type": "markdown",
      "metadata": {
        "id": "M-E4MUeVL9iC"
      },
      "source": [
        "Numpy offers several ways to index into arrays."
      ]
    },
    {
      "cell_type": "markdown",
      "metadata": {
        "id": "QYv4JyIEL9iD"
      },
      "source": [
        "Slicing: Similar to Python lists, numpy arrays can be sliced. Since arrays may be multidimensional, you must specify a slice for each dimension of the array:"
      ]
    },
    {
      "cell_type": "code",
      "execution_count": null,
      "metadata": {
        "colab": {
          "base_uri": "https://localhost:8080/",
          "height": 52
        },
        "id": "wLWA0udwL9iD",
        "outputId": "99f08618-c513-4982-8982-b146fc72dab3"
      },
      "outputs": [
        {
          "name": "stdout",
          "output_type": "stream",
          "text": [
            "[[2 3]\n",
            " [6 7]]\n"
          ]
        }
      ],
      "source": [
        "import numpy as np\n",
        "\n",
        "# Create the following rank 2 array with shape (3, 4)\n",
        "# [[ 1  2  3  4]\n",
        "#  [ 5  6  7  8]\n",
        "#  [ 9 10 11 12]]\n",
        "a = np.array([[1,2,3,4], [5,6,7,8], [9,10,11,12]])\n",
        "\n",
        "# Use slicing to pull out the subarray consisting of the first 2 rows\n",
        "# and columns 1 and 2; b is the following array of shape (2, 2):\n",
        "# [[2 3]\n",
        "#  [6 7]]\n",
        "b = a[:2, 1:3]\n",
        "print(b)"
      ]
    },
    {
      "cell_type": "markdown",
      "metadata": {
        "id": "KahhtZKYL9iF"
      },
      "source": [
        "A slice of an array is a view into the same data, so modifying it will modify the original array."
      ]
    },
    {
      "cell_type": "code",
      "execution_count": null,
      "metadata": {
        "colab": {
          "base_uri": "https://localhost:8080/",
          "height": 52
        },
        "id": "1kmtaFHuL9iG",
        "outputId": "ee3ab60c-4064-4a9e-b04c-453d3955f1d1"
      },
      "outputs": [
        {
          "name": "stdout",
          "output_type": "stream",
          "text": [
            "2\n",
            "77\n"
          ]
        }
      ],
      "source": [
        "print(a[0, 1])\n",
        "b[0, 0] = 77    # b[0, 0] is the same piece of data as a[0, 1]\n",
        "print(a[0, 1]) "
      ]
    },
    {
      "cell_type": "markdown",
      "metadata": {
        "id": "_Zcf3zi-L9iI"
      },
      "source": [
        "You can also mix integer indexing with slice indexing. However, doing so will yield an array of lower rank than the original array. Note that this is quite different from the way that MATLAB handles array slicing:"
      ]
    },
    {
      "cell_type": "code",
      "execution_count": null,
      "metadata": {
        "colab": {
          "base_uri": "https://localhost:8080/",
          "height": 69
        },
        "id": "G6lfbPuxL9iJ",
        "outputId": "a225fe9d-2a29-4e14-a243-2b7d583bd4bc"
      },
      "outputs": [
        {
          "name": "stdout",
          "output_type": "stream",
          "text": [
            "[[ 1  2  3  4]\n",
            " [ 5  6  7  8]\n",
            " [ 9 10 11 12]]\n"
          ]
        }
      ],
      "source": [
        "# Create the following rank 2 array with shape (3, 4)\n",
        "a = np.array([[1,2,3,4], [5,6,7,8], [9,10,11,12]])\n",
        "print(a)"
      ]
    },
    {
      "cell_type": "markdown",
      "metadata": {
        "id": "NCye3NXhL9iL"
      },
      "source": [
        "Two ways of accessing the data in the middle row of the array.\n",
        "Mixing integer indexing with slices yields an array of lower rank,\n",
        "while using only slices yields an array of the same rank as the\n",
        "original array:"
      ]
    },
    {
      "cell_type": "code",
      "execution_count": null,
      "metadata": {
        "colab": {
          "base_uri": "https://localhost:8080/",
          "height": 69
        },
        "id": "EOiEMsmNL9iL",
        "outputId": "ab2ebe48-9002-45a8-9462-fd490b467f40"
      },
      "outputs": [
        {
          "name": "stdout",
          "output_type": "stream",
          "text": [
            "[5 6 7 8] (4,)\n",
            "[[5 6 7 8]] (1, 4)\n",
            "[[5 6 7 8]] (1, 4)\n"
          ]
        }
      ],
      "source": [
        "row_r1 = a[1, :]    # Rank 1 view of the second row of a  \n",
        "row_r2 = a[1:2, :]  # Rank 2 view of the second row of a\n",
        "row_r3 = a[[1], :]  # Rank 2 view of the second row of a\n",
        "print(row_r1, row_r1.shape)\n",
        "print(row_r2, row_r2.shape)\n",
        "print(row_r3, row_r3.shape)"
      ]
    },
    {
      "cell_type": "code",
      "execution_count": null,
      "metadata": {
        "colab": {
          "base_uri": "https://localhost:8080/",
          "height": 104
        },
        "id": "JXu73pfDL9iN",
        "outputId": "6c589b85-e9b0-4c13-a39d-4cd9fb2f41ac"
      },
      "outputs": [
        {
          "name": "stdout",
          "output_type": "stream",
          "text": [
            "[ 2  6 10] (3,)\n",
            "\n",
            "[[ 2]\n",
            " [ 6]\n",
            " [10]] (3, 1)\n"
          ]
        }
      ],
      "source": [
        "# We can make the same distinction when accessing columns of an array:\n",
        "col_r1 = a[:, 1]\n",
        "col_r2 = a[:, 1:2]\n",
        "print(col_r1, col_r1.shape)\n",
        "print()\n",
        "print(col_r2, col_r2.shape)"
      ]
    },
    {
      "cell_type": "markdown",
      "metadata": {
        "id": "VP3916bOL9iP"
      },
      "source": [
        "Integer array indexing: When you index into numpy arrays using slicing, the resulting array view will always be a subarray of the original array. In contrast, integer array indexing allows you to construct arbitrary arrays using the data from another array. Here is an example:"
      ]
    },
    {
      "cell_type": "code",
      "execution_count": null,
      "metadata": {
        "colab": {
          "base_uri": "https://localhost:8080/",
          "height": 52
        },
        "id": "TBnWonIDL9iP",
        "outputId": "c29fa2cd-234e-4765-c70a-6889acc63573"
      },
      "outputs": [
        {
          "name": "stdout",
          "output_type": "stream",
          "text": [
            "[1 4 5]\n",
            "[1 4 5]\n"
          ]
        }
      ],
      "source": [
        "a = np.array([[1,2], [3, 4], [5, 6]])\n",
        "\n",
        "# An example of integer array indexing.\n",
        "# The returned array will have shape (3,) and \n",
        "print(a[[0, 1, 2], [0, 1, 0]])\n",
        "\n",
        "# The above example of integer array indexing is equivalent to this:\n",
        "print(np.array([a[0, 0], a[1, 1], a[2, 0]]))"
      ]
    },
    {
      "cell_type": "code",
      "execution_count": null,
      "metadata": {
        "colab": {
          "base_uri": "https://localhost:8080/",
          "height": 52
        },
        "id": "n7vuati-L9iR",
        "outputId": "c3e9ba14-f66e-4202-999e-2e1aed5bd631"
      },
      "outputs": [
        {
          "name": "stdout",
          "output_type": "stream",
          "text": [
            "[2 2]\n",
            "[2 2]\n"
          ]
        }
      ],
      "source": [
        "# When using integer array indexing, you can reuse the same\n",
        "# element from the source array:\n",
        "print(a[[0, 0], [1, 1]])\n",
        "\n",
        "# Equivalent to the previous integer array indexing example\n",
        "print(np.array([a[0, 1], a[0, 1]]))"
      ]
    },
    {
      "cell_type": "markdown",
      "metadata": {
        "id": "kaipSLafL9iU"
      },
      "source": [
        "One useful trick with integer array indexing is selecting or mutating one element from each row of a matrix:"
      ]
    },
    {
      "cell_type": "code",
      "execution_count": null,
      "metadata": {
        "colab": {
          "base_uri": "https://localhost:8080/",
          "height": 86
        },
        "id": "ehqsV7TXL9iU",
        "outputId": "de509c40-4ee4-4b7c-e75d-1a936a3350e7"
      },
      "outputs": [
        {
          "name": "stdout",
          "output_type": "stream",
          "text": [
            "[[ 1  2  3]\n",
            " [ 4  5  6]\n",
            " [ 7  8  9]\n",
            " [10 11 12]]\n"
          ]
        }
      ],
      "source": [
        "# Create a new array from which we will select elements\n",
        "a = np.array([[1,2,3], [4,5,6], [7,8,9], [10, 11, 12]])\n",
        "print(a)"
      ]
    },
    {
      "cell_type": "code",
      "execution_count": null,
      "metadata": {
        "colab": {
          "base_uri": "https://localhost:8080/",
          "height": 34
        },
        "id": "pAPOoqy5L9iV",
        "outputId": "f812e29b-9218-4767-d3a8-e9854e754e68"
      },
      "outputs": [
        {
          "name": "stdout",
          "output_type": "stream",
          "text": [
            "[ 1  6  7 11]\n"
          ]
        }
      ],
      "source": [
        "# Create an array of indices\n",
        "b = np.array([0, 2, 0, 1])\n",
        "\n",
        "# Select one element from each row of a using the indices in b\n",
        "print(a[np.arange(4), b])  # Prints \"[ 1  6  7 11]\""
      ]
    },
    {
      "cell_type": "code",
      "execution_count": null,
      "metadata": {
        "colab": {
          "base_uri": "https://localhost:8080/",
          "height": 86
        },
        "id": "6v1PdI1DL9ib",
        "outputId": "89f50f82-de1b-4417-e55c-edbc0ee07584"
      },
      "outputs": [
        {
          "name": "stdout",
          "output_type": "stream",
          "text": [
            "[[11  2  3]\n",
            " [ 4  5 16]\n",
            " [17  8  9]\n",
            " [10 21 12]]\n"
          ]
        }
      ],
      "source": [
        "# Mutate one element from each row of a using the indices in b\n",
        "a[np.arange(4), b] += 10\n",
        "print(a)"
      ]
    },
    {
      "cell_type": "markdown",
      "metadata": {
        "id": "kaE8dBGgL9id"
      },
      "source": [
        "Boolean array indexing: Boolean array indexing lets you pick out arbitrary elements of an array. Frequently this type of indexing is used to select the elements of an array that satisfy some condition. Here is an example:"
      ]
    },
    {
      "cell_type": "code",
      "execution_count": null,
      "metadata": {
        "colab": {
          "base_uri": "https://localhost:8080/",
          "height": 69
        },
        "id": "32PusjtKL9id",
        "outputId": "8782e8ec-b78d-44d7-8141-23e39750b854"
      },
      "outputs": [
        {
          "name": "stdout",
          "output_type": "stream",
          "text": [
            "[[False False]\n",
            " [ True  True]\n",
            " [ True  True]]\n"
          ]
        }
      ],
      "source": [
        "import numpy as np\n",
        "\n",
        "a = np.array([[1,2], [3, 4], [5, 6]])\n",
        "\n",
        "bool_idx = (a > 2)  # Find the elements of a that are bigger than 2;\n",
        "                    # this returns a numpy array of Booleans of the same\n",
        "                    # shape as a, where each slot of bool_idx tells\n",
        "                    # whether that element of a is > 2.\n",
        "\n",
        "print(bool_idx)"
      ]
    },
    {
      "cell_type": "code",
      "execution_count": null,
      "metadata": {
        "colab": {
          "base_uri": "https://localhost:8080/",
          "height": 52
        },
        "id": "cb2IRMXaL9if",
        "outputId": "5983f208-3738-472d-d6ab-11fe85b36c95"
      },
      "outputs": [
        {
          "name": "stdout",
          "output_type": "stream",
          "text": [
            "[3 4 5 6]\n",
            "[3 4 5 6]\n"
          ]
        }
      ],
      "source": [
        "# We use boolean array indexing to construct a rank 1 array\n",
        "# consisting of the elements of a corresponding to the True values\n",
        "# of bool_idx\n",
        "print(a[bool_idx])\n",
        "\n",
        "# We can do all of the above in a single concise statement:\n",
        "print(a[a > 2])"
      ]
    },
    {
      "cell_type": "markdown",
      "metadata": {
        "id": "CdofMonAL9ih"
      },
      "source": [
        "For brevity we have left out a lot of details about numpy array indexing; if you want to know more you should read the documentation."
      ]
    },
    {
      "cell_type": "markdown",
      "metadata": {
        "id": "jTctwqdQL9ih"
      },
      "source": [
        "###Datatypes"
      ]
    },
    {
      "cell_type": "markdown",
      "metadata": {
        "id": "kSZQ1WkIL9ih"
      },
      "source": [
        "Every numpy array is a grid of elements of the same type. Numpy provides a large set of numeric datatypes that you can use to construct arrays. Numpy tries to guess a datatype when you create an array, but functions that construct arrays usually also include an optional argument to explicitly specify the datatype. Here is an example:"
      ]
    },
    {
      "cell_type": "code",
      "execution_count": null,
      "metadata": {
        "colab": {
          "base_uri": "https://localhost:8080/",
          "height": 34
        },
        "id": "4za4O0m5L9ih",
        "outputId": "2ea4fb80-a4df-43f9-c162-5665895c13ae"
      },
      "outputs": [
        {
          "name": "stdout",
          "output_type": "stream",
          "text": [
            "int64 float64 int64\n"
          ]
        }
      ],
      "source": [
        "x = np.array([1, 2])  # Let numpy choose the datatype\n",
        "y = np.array([1.0, 2.0])  # Let numpy choose the datatype\n",
        "z = np.array([1, 2], dtype=np.int64)  # Force a particular datatype\n",
        "\n",
        "print(x.dtype, y.dtype, z.dtype)"
      ]
    },
    {
      "cell_type": "markdown",
      "metadata": {
        "id": "RLVIsZQpL9ik"
      },
      "source": [
        "You can read all about numpy datatypes in the [documentation](http://docs.scipy.org/doc/numpy/reference/arrays.dtypes.html)."
      ]
    },
    {
      "cell_type": "markdown",
      "metadata": {
        "id": "TuB-fdhIL9ik"
      },
      "source": [
        "###Array math"
      ]
    },
    {
      "cell_type": "markdown",
      "metadata": {
        "id": "18e8V8elL9ik"
      },
      "source": [
        "Basic mathematical functions operate elementwise on arrays, and are available both as operator overloads and as functions in the numpy module:"
      ]
    },
    {
      "cell_type": "code",
      "execution_count": null,
      "metadata": {
        "colab": {
          "base_uri": "https://localhost:8080/",
          "height": 86
        },
        "id": "gHKvBrSKL9il",
        "outputId": "a8a924b1-9d60-4b68-8fd3-e4657ae3f08b"
      },
      "outputs": [
        {
          "name": "stdout",
          "output_type": "stream",
          "text": [
            "[[ 6.  8.]\n",
            " [10. 12.]]\n",
            "[[ 6.  8.]\n",
            " [10. 12.]]\n"
          ]
        }
      ],
      "source": [
        "x = np.array([[1,2],[3,4]], dtype=np.float64)\n",
        "y = np.array([[5,6],[7,8]], dtype=np.float64)\n",
        "\n",
        "# Elementwise sum; both produce the array\n",
        "print(x + y)\n",
        "print(np.add(x, y))"
      ]
    },
    {
      "cell_type": "code",
      "execution_count": null,
      "metadata": {
        "colab": {
          "base_uri": "https://localhost:8080/",
          "height": 86
        },
        "id": "1fZtIAMxL9in",
        "outputId": "122f1380-6144-4d6c-9d31-f62d839889a2"
      },
      "outputs": [
        {
          "name": "stdout",
          "output_type": "stream",
          "text": [
            "[[-4. -4.]\n",
            " [-4. -4.]]\n",
            "[[-4. -4.]\n",
            " [-4. -4.]]\n"
          ]
        }
      ],
      "source": [
        "# Elementwise difference; both produce the array\n",
        "print(x - y)\n",
        "print(np.subtract(x, y))"
      ]
    },
    {
      "cell_type": "code",
      "execution_count": null,
      "metadata": {
        "colab": {
          "base_uri": "https://localhost:8080/",
          "height": 86
        },
        "id": "nil4AScML9io",
        "outputId": "038c8bb2-122b-4e59-c0a8-a091014fe68e"
      },
      "outputs": [
        {
          "name": "stdout",
          "output_type": "stream",
          "text": [
            "[[ 5. 12.]\n",
            " [21. 32.]]\n",
            "[[ 5. 12.]\n",
            " [21. 32.]]\n"
          ]
        }
      ],
      "source": [
        "# Elementwise product; both produce the array\n",
        "print(x * y)\n",
        "print(np.multiply(x, y))"
      ]
    },
    {
      "cell_type": "code",
      "execution_count": null,
      "metadata": {
        "colab": {
          "base_uri": "https://localhost:8080/",
          "height": 86
        },
        "id": "0JoA4lH6L9ip",
        "outputId": "12351a74-7871-4bc2-97ce-a508bf4810da"
      },
      "outputs": [
        {
          "name": "stdout",
          "output_type": "stream",
          "text": [
            "[[0.2        0.33333333]\n",
            " [0.42857143 0.5       ]]\n",
            "[[0.2        0.33333333]\n",
            " [0.42857143 0.5       ]]\n"
          ]
        }
      ],
      "source": [
        "# Elementwise division; both produce the array\n",
        "# [[ 0.2         0.33333333]\n",
        "#  [ 0.42857143  0.5       ]]\n",
        "print(x / y)\n",
        "print(np.divide(x, y))"
      ]
    },
    {
      "cell_type": "code",
      "execution_count": null,
      "metadata": {
        "colab": {
          "base_uri": "https://localhost:8080/",
          "height": 52
        },
        "id": "g0iZuA6bL9ir",
        "outputId": "29927dda-4167-4aa8-fbda-9008b09e4356"
      },
      "outputs": [
        {
          "name": "stdout",
          "output_type": "stream",
          "text": [
            "[[1.         1.41421356]\n",
            " [1.73205081 2.        ]]\n"
          ]
        }
      ],
      "source": [
        "# Elementwise square root; produces the array\n",
        "# [[ 1.          1.41421356]\n",
        "#  [ 1.73205081  2.        ]]\n",
        "print(np.sqrt(x))"
      ]
    },
    {
      "cell_type": "markdown",
      "metadata": {
        "id": "a5d_uujuL9it"
      },
      "source": [
        "Note that unlike MATLAB, `*` is elementwise multiplication, not matrix multiplication. We instead use the dot function to compute inner products of vectors, to multiply a vector by a matrix, and to multiply matrices. dot is available both as a function in the numpy module and as an instance method of array objects:"
      ]
    },
    {
      "cell_type": "code",
      "execution_count": null,
      "metadata": {
        "colab": {
          "base_uri": "https://localhost:8080/",
          "height": 52
        },
        "id": "I3FnmoSeL9iu",
        "outputId": "46f4575a-2e5e-4347-a34e-0cc5bd280110"
      },
      "outputs": [
        {
          "name": "stdout",
          "output_type": "stream",
          "text": [
            "219\n",
            "219\n"
          ]
        }
      ],
      "source": [
        "x = np.array([[1,2],[3,4]])\n",
        "y = np.array([[5,6],[7,8]])\n",
        "\n",
        "v = np.array([9,10])\n",
        "w = np.array([11, 12])\n",
        "\n",
        "# Inner product of vectors; both produce 219\n",
        "print(v.dot(w))\n",
        "print(np.dot(v, w))"
      ]
    },
    {
      "cell_type": "markdown",
      "metadata": {
        "id": "vmxPbrHASVeA"
      },
      "source": [
        "You can also use the `@` operator which is equivalent to numpy's `dot` operator."
      ]
    },
    {
      "cell_type": "code",
      "execution_count": null,
      "metadata": {
        "colab": {
          "base_uri": "https://localhost:8080/",
          "height": 34
        },
        "id": "vyrWA-mXSdtt",
        "outputId": "a9aae545-2c93-4649-b220-b097655955f6"
      },
      "outputs": [
        {
          "name": "stdout",
          "output_type": "stream",
          "text": [
            "219\n"
          ]
        }
      ],
      "source": [
        "print(v @ w)"
      ]
    },
    {
      "cell_type": "code",
      "execution_count": null,
      "metadata": {
        "colab": {
          "base_uri": "https://localhost:8080/",
          "height": 69
        },
        "id": "zvUODeTxL9iw",
        "outputId": "4093fc76-094f-4453-a421-a212b5226968"
      },
      "outputs": [
        {
          "name": "stdout",
          "output_type": "stream",
          "text": [
            "[29 67]\n",
            "[29 67]\n",
            "[29 67]\n"
          ]
        }
      ],
      "source": [
        "# Matrix / vector product; both produce the rank 1 array [29 67]\n",
        "print(x.dot(v))\n",
        "print(np.dot(x, v))\n",
        "print(x @ v)"
      ]
    },
    {
      "cell_type": "code",
      "execution_count": null,
      "metadata": {
        "colab": {
          "base_uri": "https://localhost:8080/",
          "height": 121
        },
        "id": "3V_3NzNEL9iy",
        "outputId": "af2a89f9-af5d-47a6-9ad2-06a84b521b94"
      },
      "outputs": [
        {
          "name": "stdout",
          "output_type": "stream",
          "text": [
            "[[19 22]\n",
            " [43 50]]\n",
            "[[19 22]\n",
            " [43 50]]\n",
            "[[19 22]\n",
            " [43 50]]\n"
          ]
        }
      ],
      "source": [
        "# Matrix / matrix product; both produce the rank 2 array\n",
        "# [[19 22]\n",
        "#  [43 50]]\n",
        "print(x.dot(y))\n",
        "print(np.dot(x, y))\n",
        "print(x @ y)"
      ]
    },
    {
      "cell_type": "markdown",
      "metadata": {
        "id": "FbE-1If_L9i0"
      },
      "source": [
        "Numpy provides many useful functions for performing computations on arrays; one of the most useful is `sum`:"
      ]
    },
    {
      "cell_type": "code",
      "execution_count": null,
      "metadata": {
        "colab": {
          "base_uri": "https://localhost:8080/",
          "height": 69
        },
        "id": "DZUdZvPrL9i0",
        "outputId": "99cad470-d692-4b25-91c9-a57aa25f4c6e"
      },
      "outputs": [
        {
          "name": "stdout",
          "output_type": "stream",
          "text": [
            "10\n",
            "[4 6]\n",
            "[3 7]\n"
          ]
        }
      ],
      "source": [
        "x = np.array([[1,2],[3,4]])\n",
        "\n",
        "print(np.sum(x))  # Compute sum of all elements; prints \"10\"\n",
        "print(np.sum(x, axis=0))  # Compute sum of each column; prints \"[4 6]\"\n",
        "print(np.sum(x, axis=1))  # Compute sum of each row; prints \"[3 7]\""
      ]
    },
    {
      "cell_type": "markdown",
      "metadata": {
        "id": "ahdVW4iUL9i3"
      },
      "source": [
        "You can find the full list of mathematical functions provided by numpy in the [documentation](http://docs.scipy.org/doc/numpy/reference/routines.math.html).\n",
        "\n",
        "Apart from computing mathematical functions using arrays, we frequently need to reshape or otherwise manipulate data in arrays. The simplest example of this type of operation is transposing a matrix; to transpose a matrix, simply use the T attribute of an array object:"
      ]
    },
    {
      "cell_type": "code",
      "execution_count": null,
      "metadata": {
        "colab": {
          "base_uri": "https://localhost:8080/",
          "height": 104
        },
        "id": "63Yl1f3oL9i3",
        "outputId": "c75ac7ba-4351-42f8-a09c-a4e0d966ab50"
      },
      "outputs": [
        {
          "name": "stdout",
          "output_type": "stream",
          "text": [
            "[[1 2]\n",
            " [3 4]]\n",
            "transpose\n",
            " [[1 3]\n",
            " [2 4]]\n"
          ]
        }
      ],
      "source": [
        "print(x)\n",
        "print(\"transpose\\n\", x.T)"
      ]
    },
    {
      "cell_type": "code",
      "execution_count": null,
      "metadata": {
        "colab": {
          "base_uri": "https://localhost:8080/",
          "height": 104
        },
        "id": "mkk03eNIL9i4",
        "outputId": "499eec5a-55b7-473a-d4aa-9d023d63885a"
      },
      "outputs": [
        {
          "name": "stdout",
          "output_type": "stream",
          "text": [
            "[[1 2 3]]\n",
            "transpose\n",
            " [[1]\n",
            " [2]\n",
            " [3]]\n"
          ]
        }
      ],
      "source": [
        "v = np.array([[1,2,3]])\n",
        "print(v )\n",
        "print(\"transpose\\n\", v.T)"
      ]
    },
    {
      "cell_type": "markdown",
      "metadata": {
        "id": "REfLrUTcL9i7"
      },
      "source": [
        "###Broadcasting"
      ]
    },
    {
      "cell_type": "markdown",
      "metadata": {
        "id": "EygGAMWqL9i7"
      },
      "source": [
        "Broadcasting is a powerful mechanism that allows numpy to work with arrays of different shapes when performing arithmetic operations. Frequently we have a smaller array and a larger array, and we want to use the smaller array multiple times to perform some operation on the larger array.\n",
        "\n",
        "For example, suppose that we want to add a constant vector to each row of a matrix. We could do it like this:"
      ]
    },
    {
      "cell_type": "code",
      "execution_count": null,
      "metadata": {
        "colab": {
          "base_uri": "https://localhost:8080/",
          "height": 86
        },
        "id": "WEEvkV1ZL9i7",
        "outputId": "3896d03c-3ece-4aa8-f675-aef3a220574d"
      },
      "outputs": [
        {
          "name": "stdout",
          "output_type": "stream",
          "text": [
            "[[ 2  2  4]\n",
            " [ 5  5  7]\n",
            " [ 8  8 10]\n",
            " [11 11 13]]\n"
          ]
        }
      ],
      "source": [
        "# We will add the vector v to each row of the matrix x,\n",
        "# storing the result in the matrix y\n",
        "x = np.array([[1,2,3], [4,5,6], [7,8,9], [10, 11, 12]])\n",
        "v = np.array([1, 0, 1])\n",
        "y = np.empty_like(x)   # Create an empty matrix with the same shape as x\n",
        "\n",
        "# Add the vector v to each row of the matrix x with an explicit loop\n",
        "for i in range(4):\n",
        "    y[i, :] = x[i, :] + v\n",
        "\n",
        "print(y)"
      ]
    },
    {
      "cell_type": "markdown",
      "metadata": {
        "id": "2OlXXupEL9i-"
      },
      "source": [
        "This works; however when the matrix `x` is very large, computing an explicit loop in Python could be slow. Note that adding the vector v to each row of the matrix `x` is equivalent to forming a matrix `vv` by stacking multiple copies of `v` vertically, then performing elementwise summation of `x` and `vv`. We could implement this approach like this:"
      ]
    },
    {
      "cell_type": "code",
      "execution_count": null,
      "metadata": {
        "colab": {
          "base_uri": "https://localhost:8080/",
          "height": 86
        },
        "id": "vS7UwAQQL9i-",
        "outputId": "8621e502-c25d-4a18-c973-886dbfd1df36"
      },
      "outputs": [
        {
          "name": "stdout",
          "output_type": "stream",
          "text": [
            "[[1 0 1]\n",
            " [1 0 1]\n",
            " [1 0 1]\n",
            " [1 0 1]]\n"
          ]
        }
      ],
      "source": [
        "vv = np.tile(v, (4, 1))  # Stack 4 copies of v on top of each other\n",
        "print(vv)                # Prints \"[[1 0 1]\n",
        "                         #          [1 0 1]\n",
        "                         #          [1 0 1]\n",
        "                         #          [1 0 1]]\""
      ]
    },
    {
      "cell_type": "code",
      "execution_count": null,
      "metadata": {
        "colab": {
          "base_uri": "https://localhost:8080/",
          "height": 86
        },
        "id": "N0hJphSIL9jA",
        "outputId": "def6a757-170c-43bf-8728-732dfb133273"
      },
      "outputs": [
        {
          "name": "stdout",
          "output_type": "stream",
          "text": [
            "[[ 2  2  4]\n",
            " [ 5  5  7]\n",
            " [ 8  8 10]\n",
            " [11 11 13]]\n"
          ]
        }
      ],
      "source": [
        "y = x + vv  # Add x and vv elementwise\n",
        "print(y)"
      ]
    },
    {
      "cell_type": "markdown",
      "metadata": {
        "id": "zHos6RJnL9jB"
      },
      "source": [
        "Numpy broadcasting allows us to perform this computation without actually creating multiple copies of v. Consider this version, using broadcasting:"
      ]
    },
    {
      "cell_type": "code",
      "execution_count": null,
      "metadata": {
        "colab": {
          "base_uri": "https://localhost:8080/",
          "height": 86
        },
        "id": "vnYFb-gYL9jC",
        "outputId": "df3bea8a-ad72-4a83-90bb-306b55c6fb93"
      },
      "outputs": [
        {
          "name": "stdout",
          "output_type": "stream",
          "text": [
            "[[ 2  2  4]\n",
            " [ 5  5  7]\n",
            " [ 8  8 10]\n",
            " [11 11 13]]\n"
          ]
        }
      ],
      "source": [
        "import numpy as np\n",
        "\n",
        "# We will add the vector v to each row of the matrix x,\n",
        "# storing the result in the matrix y\n",
        "x = np.array([[1,2,3], [4,5,6], [7,8,9], [10, 11, 12]])\n",
        "v = np.array([1, 0, 1])\n",
        "y = x + v  # Add v to each row of x using broadcasting\n",
        "print(y)"
      ]
    },
    {
      "cell_type": "markdown",
      "metadata": {
        "id": "08YyIURKL9jH"
      },
      "source": [
        "The line `y = x + v` works even though `x` has shape `(4, 3)` and `v` has shape `(3,)` due to broadcasting; this line works as if v actually had shape `(4, 3)`, where each row was a copy of `v`, and the sum was performed elementwise.\n",
        "\n",
        "Broadcasting two arrays together follows these rules:\n",
        "\n",
        "1. If the arrays do not have the same rank, prepend the shape of the lower rank array with 1s until both shapes have the same length.\n",
        "2. The two arrays are said to be compatible in a dimension if they have the same size in the dimension, or if one of the arrays has size 1 in that dimension.\n",
        "3. The arrays can be broadcast together if they are compatible in all dimensions.\n",
        "4. After broadcasting, each array behaves as if it had shape equal to the elementwise maximum of shapes of the two input arrays.\n",
        "5. In any dimension where one array had size 1 and the other array had size greater than 1, the first array behaves as if it were copied along that dimension\n",
        "\n",
        "If this explanation does not make sense, try reading the explanation from the [documentation](http://docs.scipy.org/doc/numpy/user/basics.broadcasting.html) or this [explanation](http://wiki.scipy.org/EricsBroadcastingDoc).\n",
        "\n",
        "Functions that support broadcasting are known as universal functions. You can find the list of all universal functions in the [documentation](http://docs.scipy.org/doc/numpy/reference/ufuncs.html#available-ufuncs).\n",
        "\n",
        "Here are some applications of broadcasting:"
      ]
    },
    {
      "cell_type": "code",
      "execution_count": null,
      "metadata": {
        "colab": {
          "base_uri": "https://localhost:8080/",
          "height": 69
        },
        "id": "EmQnwoM9L9jH",
        "outputId": "f59e181e-e2d4-416c-d094-c4d003ce8509"
      },
      "outputs": [
        {
          "name": "stdout",
          "output_type": "stream",
          "text": [
            "[[ 4  5]\n",
            " [ 8 10]\n",
            " [12 15]]\n"
          ]
        }
      ],
      "source": [
        "# Compute outer product of vectors\n",
        "v = np.array([1,2,3])  # v has shape (3,)\n",
        "w = np.array([4,5])    # w has shape (2,)\n",
        "# To compute an outer product, we first reshape v to be a column\n",
        "# vector of shape (3, 1); we can then broadcast it against w to yield\n",
        "# an output of shape (3, 2), which is the outer product of v and w:\n",
        "\n",
        "print(np.reshape(v, (3, 1)) * w)"
      ]
    },
    {
      "cell_type": "code",
      "execution_count": null,
      "metadata": {
        "colab": {
          "base_uri": "https://localhost:8080/",
          "height": 52
        },
        "id": "PgotmpcnL9jK",
        "outputId": "567763d3-073a-4e3c-9ebe-6c7d2b6d3446"
      },
      "outputs": [
        {
          "name": "stdout",
          "output_type": "stream",
          "text": [
            "[[2 4 6]\n",
            " [5 7 9]]\n"
          ]
        }
      ],
      "source": [
        "# Add a vector to each row of a matrix\n",
        "x = np.array([[1,2,3], [4,5,6]])\n",
        "# x has shape (2, 3) and v has shape (3,) so they broadcast to (2, 3),\n",
        "# giving the following matrix:\n",
        "\n",
        "print(x + v)"
      ]
    },
    {
      "cell_type": "code",
      "execution_count": null,
      "metadata": {
        "colab": {
          "base_uri": "https://localhost:8080/",
          "height": 52
        },
        "id": "T5hKS1QaL9jK",
        "outputId": "5f14ac5c-7a21-4216-e91d-cfce5720a804"
      },
      "outputs": [
        {
          "name": "stdout",
          "output_type": "stream",
          "text": [
            "[[ 5  6  7]\n",
            " [ 9 10 11]]\n"
          ]
        }
      ],
      "source": [
        "# Add a vector to each column of a matrix\n",
        "# x has shape (2, 3) and w has shape (2,).\n",
        "# If we transpose x then it has shape (3, 2) and can be broadcast\n",
        "# against w to yield a result of shape (3, 2); transposing this result\n",
        "# yields the final result of shape (2, 3) which is the matrix x with\n",
        "# the vector w added to each column. Gives the following matrix:\n",
        "\n",
        "print((x.T + w).T)"
      ]
    },
    {
      "cell_type": "code",
      "execution_count": null,
      "metadata": {
        "colab": {
          "base_uri": "https://localhost:8080/",
          "height": 52
        },
        "id": "JDUrZUl6L9jN",
        "outputId": "53e99a89-c599-406d-9fe3-7aa35ae5fb90"
      },
      "outputs": [
        {
          "name": "stdout",
          "output_type": "stream",
          "text": [
            "[[ 5  6  7]\n",
            " [ 9 10 11]]\n"
          ]
        }
      ],
      "source": [
        "# Another solution is to reshape w to be a row vector of shape (2, 1);\n",
        "# we can then broadcast it directly against x to produce the same\n",
        "# output.\n",
        "print(x + np.reshape(w, (2, 1)))"
      ]
    },
    {
      "cell_type": "code",
      "execution_count": null,
      "metadata": {
        "colab": {
          "base_uri": "https://localhost:8080/",
          "height": 52
        },
        "id": "VzrEo4KGL9jP",
        "outputId": "53c9d4cc-32d5-46b0-d090-53c7db57fb32"
      },
      "outputs": [
        {
          "name": "stdout",
          "output_type": "stream",
          "text": [
            "[[ 2  4  6]\n",
            " [ 8 10 12]]\n"
          ]
        }
      ],
      "source": [
        "# Multiply a matrix by a constant:\n",
        "# x has shape (2, 3). Numpy treats scalars as arrays of shape ();\n",
        "# these can be broadcast together to shape (2, 3), producing the\n",
        "# following array:\n",
        "print(x * 2)"
      ]
    },
    {
      "cell_type": "markdown",
      "metadata": {
        "id": "89e2FXxFL9jQ"
      },
      "source": [
        "Broadcasting typically makes your code more concise and faster, so you should strive to use it where possible."
      ]
    },
    {
      "cell_type": "markdown",
      "metadata": {
        "id": "iF3ZtwVNL9jQ"
      },
      "source": [
        "This brief overview has touched on many of the important things that you need to know about numpy, but is far from complete. Check out the [numpy reference](http://docs.scipy.org/doc/numpy/reference/) to find out much more about numpy."
      ]
    },
    {
      "cell_type": "markdown",
      "metadata": {
        "id": "tEINf4bEL9jR"
      },
      "source": [
        "##Matplotlib"
      ]
    },
    {
      "cell_type": "markdown",
      "metadata": {
        "id": "0hgVWLaXL9jR"
      },
      "source": [
        "Matplotlib is a plotting library. In this section give a brief introduction to the `matplotlib.pyplot` module, which provides a plotting system similar to that of MATLAB."
      ]
    },
    {
      "cell_type": "code",
      "execution_count": null,
      "metadata": {
        "id": "cmh_7c6KL9jR"
      },
      "outputs": [],
      "source": [
        "import matplotlib.pyplot as plt"
      ]
    },
    {
      "cell_type": "markdown",
      "metadata": {
        "id": "jOsaA5hGL9jS"
      },
      "source": [
        "By running this special iPython command, we will be displaying plots inline:"
      ]
    },
    {
      "cell_type": "code",
      "execution_count": null,
      "metadata": {
        "id": "ijpsmwGnL9jT"
      },
      "outputs": [],
      "source": [
        "%matplotlib inline"
      ]
    },
    {
      "cell_type": "markdown",
      "metadata": {
        "id": "U5Z_oMoLL9jV"
      },
      "source": [
        "###Plotting"
      ]
    },
    {
      "cell_type": "markdown",
      "metadata": {
        "id": "6QyFJ7dhL9jV"
      },
      "source": [
        "The most important function in `matplotlib` is plot, which allows you to plot 2D data. Here is a simple example:"
      ]
    },
    {
      "cell_type": "code",
      "execution_count": null,
      "metadata": {
        "colab": {
          "base_uri": "https://localhost:8080/",
          "height": 282
        },
        "id": "pua52BGeL9jW",
        "outputId": "9ac3ee0f-7ff7-463b-b901-c33d21a2b10c"
      },
      "outputs": [
        {
          "data": {
            "text/plain": [
              "[<matplotlib.lines.Line2D at 0x7f0f3a0b4208>]"
            ]
          },
          "execution_count": 105,
          "metadata": {
            "tags": []
          },
          "output_type": "execute_result"
        },
        {
          "data": {
            "image/png": "[encoded data removed]",
            "text/plain": [
              "<Figure size 432x288 with 1 Axes>"
            ]
          },
          "metadata": {
            "tags": []
          },
          "output_type": "display_data"
        }
      ],
      "source": [
        "# Compute the x and y coordinates for points on a sine curve\n",
        "x = np.arange(0, 3 * np.pi, 0.1)\n",
        "y = np.sin(x)\n",
        "\n",
        "# Plot the points using matplotlib\n",
        "plt.plot(x, y)"
      ]
    },
    {
      "cell_type": "markdown",
      "metadata": {
        "id": "9W2VAcLiL9jX"
      },
      "source": [
        "With just a little bit of extra work we can easily plot multiple lines at once, and add a title, legend, and axis labels:"
      ]
    },
    {
      "cell_type": "code",
      "execution_count": null,
      "metadata": {
        "colab": {
          "base_uri": "https://localhost:8080/",
          "height": 312
        },
        "id": "TfCQHJ5AL9jY",
        "outputId": "fdb9c033-0f06-4041-a69d-a0f3a54c7206"
      },
      "outputs": [
        {
          "data": {
            "text/plain": [
              "<matplotlib.legend.Legend at 0x7f0f39c04780>"
            ]
          },
          "execution_count": 106,
          "metadata": {
            "tags": []
          },
          "output_type": "execute_result"
        },
        {
          "data": {
            "image/png": "[encoded data removed]",
            "text/plain": [
              "<Figure size 432x288 with 1 Axes>"
            ]
          },
          "metadata": {
            "tags": []
          },
          "output_type": "display_data"
        }
      ],
      "source": [
        "y_sin = np.sin(x)\n",
        "y_cos = np.cos(x)\n",
        "\n",
        "# Plot the points using matplotlib\n",
        "plt.plot(x, y_sin)\n",
        "plt.plot(x, y_cos)\n",
        "plt.xlabel('x axis label')\n",
        "plt.ylabel('y axis label')\n",
        "plt.title('Sine and Cosine')\n",
        "plt.legend(['Sine', 'Cosine'])"
      ]
    },
    {
      "cell_type": "markdown",
      "metadata": {
        "id": "R5IeAY03L9ja"
      },
      "source": [
        "###Subplots "
      ]
    },
    {
      "cell_type": "markdown",
      "metadata": {
        "id": "CfUzwJg0L9ja"
      },
      "source": [
        "You can plot different things in the same figure using the subplot function. Here is an example:"
      ]
    },
    {
      "cell_type": "code",
      "execution_count": null,
      "metadata": {
        "colab": {
          "base_uri": "https://localhost:8080/",
          "height": 281
        },
        "id": "dM23yGH9L9ja",
        "outputId": "14dfa5ea-f453-4da5-a2ee-fea0de8f72d9"
      },
      "outputs": [
        {
          "data": {
            "image/png": "[encoded data removed]",
            "text/plain": [
              "<Figure size 432x288 with 2 Axes>"
            ]
          },
          "metadata": {
            "tags": []
          },
          "output_type": "display_data"
        }
      ],
      "source": [
        "# Compute the x and y coordinates for points on sine and cosine curves\n",
        "x = np.arange(0, 3 * np.pi, 0.1)\n",
        "y_sin = np.sin(x)\n",
        "y_cos = np.cos(x)\n",
        "\n",
        "# Set up a subplot grid that has height 2 and width 1,\n",
        "# and set the first such subplot as active.\n",
        "plt.subplot(2, 1, 1)\n",
        "\n",
        "# Make the first plot\n",
        "plt.plot(x, y_sin)\n",
        "plt.title('Sine')\n",
        "\n",
        "# Set the second subplot as active, and make the second plot.\n",
        "plt.subplot(2, 1, 2)\n",
        "plt.plot(x, y_cos)\n",
        "plt.title('Cosine')\n",
        "\n",
        "# Show the figure.\n",
        "plt.show()"
      ]
    },
    {
      "cell_type": "markdown",
      "metadata": {
        "id": "gLtsST5SL9jc"
      },
      "source": [
        "You can read much more about the `subplot` function in the [documentation](http://matplotlib.org/api/pyplot_api.html#matplotlib.pyplot.subplot)."
      ]
    },
    {
      "cell_type": "code",
      "execution_count": null,
      "metadata": {
        "id": "eJXA5AWSL9jc"
      },
      "outputs": [],
      "source": [
        ""
      ]
    }
  ],
  "metadata": {
    "colab": {
      "collapsed_sections": [],
      "name": "Class_Assigment_1-tutorial.ipynb",
      "provenance": [],
      "include_colab_link": true
    },
    "kernelspec": {
      "display_name": "Python 3",
      "language": "python",
      "name": "python3"
    },
    "language_info": {
      "codemirror_mode": {
        "name": "ipython",
        "version": 3
      },
      "file_extension": ".py",
      "mimetype": "text/x-python",
      "name": "python",
      "nbconvert_exporter": "python",
      "pygments_lexer": "ipython3",
      "version": "3.7.6"
    }
  },
  "nbformat": 4,
  "nbformat_minor": 0
}