{
  "nbformat": 4,
  "nbformat_minor": 0,
  "metadata": {
    "colab": {
      "name": "Conditionals Excersives.ipynb",
      "provenance": [],
      "collapsed_sections": [],
      "authorship_tag": "ABX9TyNK/np1MzE16i2/IssfaG66",
      "include_colab_link": true
    },
    "kernelspec": {
      "name": "python3",
      "display_name": "Python 3"
    },
    "language_info": {
      "name": "python"
    }
  },
  "cells": [
    {
      "cell_type": "markdown",
      "metadata": {
        "id": "view-in-github",
        "colab_type": "text"
      },
      "source": [
        "<a href=\"https://colab.research.google.com/github/VazKBCC22/cuny_lagcc_micro_credential_data_analytics/blob/main/Conditionals_Excersives.ipynb\" target=\"_parent\"><img src=\"https://colab.research.google.com/assets/colab-badge.svg\" alt=\"Open In Colab\"/></a>"
      ]
    },
    {
      "cell_type": "code",
      "execution_count": 2,
      "metadata": {
        "colab": {
          "base_uri": "https://localhost:8080/"
        },
        "id": "bW6MxAMTN6_P",
        "outputId": "e584aab6-3457-48a8-ab95-88db1a2e1c21"
      },
      "outputs": [
        {
          "output_type": "stream",
          "name": "stdout",
          "text": [
            "Hello Frank\n"
          ]
        }
      ],
      "source": [
        "name = 'Frank'\n",
        "if name == 'Frank':\n",
        "  print('Hello '+ name)\n",
        "else:\n",
        "  print('You are not Frank')"
      ]
    },
    {
      "cell_type": "code",
      "source": [
        "name = 'Mary'\n",
        "if name == 'Frank':\n",
        "  print('Hello  ' + name)\n",
        "else:\n",
        "  print(name.upper() + ' Where is your husband Frank?') \n",
        "  print('He owns me money')"
      ],
      "metadata": {
        "colab": {
          "base_uri": "https://localhost:8080/"
        },
        "id": "LHrIU8G2Oc8Q",
        "outputId": "bc752701-cff3-4cf3-b984-cc4a6a8f73e4"
      },
      "execution_count": 9,
      "outputs": [
        {
          "output_type": "stream",
          "name": "stdout",
          "text": [
            "MARY Where is your husband Frank?\n",
            "He owns me money\n"
          ]
        }
      ]
    },
    {
      "cell_type": "code",
      "source": [
        "x = 1001\n",
        "y = 'that is a big number'\n",
        "if x == 1001 or x > 1001:\n",
        "  print(y.upper())\n",
        "else:\n",
        "  print('not a big number')\n"
      ],
      "metadata": {
        "colab": {
          "base_uri": "https://localhost:8080/"
        },
        "id": "v496m_uqPiIB",
        "outputId": "5ab60485-06ab-428a-d0a4-fee7e3f971a2"
      },
      "execution_count": 13,
      "outputs": [
        {
          "output_type": "stream",
          "name": "stdout",
          "text": [
            "THAT IS A BIG NUMBER\n"
          ]
        }
      ]
    },
    {
      "cell_type": "code",
      "source": [
        "print('A' == 'B')"
      ],
      "metadata": {
        "colab": {
          "base_uri": "https://localhost:8080/"
        },
        "id": "k-IZYtDpQlsg",
        "outputId": "4f9016dc-c1f3-4bab-85ec-d30f13c0db51"
      },
      "execution_count": 15,
      "outputs": [
        {
          "output_type": "stream",
          "name": "stdout",
          "text": [
            "False\n"
          ]
        }
      ]
    },
    {
      "cell_type": "code",
      "source": [
        "name = 'Bob'\n",
        "names = ['Betty', 'Sam', 'Batman', 'Superman', 'Some Guy']\n",
        "if name not in names:\n",
        "  print(name + ' not here')"
      ],
      "metadata": {
        "colab": {
          "base_uri": "https://localhost:8080/"
        },
        "id": "8OVlHC5hQ-VY",
        "outputId": "0aa3d7a2-bcfd-459a-94e2-f6b43b82324d"
      },
      "execution_count": 16,
      "outputs": [
        {
          "output_type": "stream",
          "name": "stdout",
          "text": [
            "Bob not here\n"
          ]
        }
      ]
    },
    {
      "cell_type": "code",
      "source": [
        "x = 3\n",
        "y = 6\n",
        "if x !=  y:\n",
        "  print('They are not the same number')\n",
        "else:\n",
        "  print('they are the same number')"
      ],
      "metadata": {
        "colab": {
          "base_uri": "https://localhost:8080/"
        },
        "id": "GeMRe-xMRbE0",
        "outputId": "1fe2fc45-6bdf-4b34-90ac-6ef0f1842cbe"
      },
      "execution_count": 17,
      "outputs": [
        {
          "output_type": "stream",
          "name": "stdout",
          "text": [
            "They are not the same number\n"
          ]
        }
      ]
    },
    {
      "cell_type": "code",
      "source": [
        "JLA = ['Batman', 'Wonder Woman', 'Green Lantern', 'Flash', 'Martian Manhunter']\n",
        "if 'Batman' and 'Wonder Woman' in JLA:\n",
        "  print('They are members of the Justice League of America')\n",
        "else:\n",
        "  print('They are out Outsiders')"
      ],
      "metadata": {
        "colab": {
          "base_uri": "https://localhost:8080/"
        },
        "id": "hY5cAaYZSBBL",
        "outputId": "3439858b-8a5a-4b57-ca3d-d380e9ddc536"
      },
      "execution_count": 18,
      "outputs": [
        {
          "output_type": "stream",
          "name": "stdout",
          "text": [
            "They are members of the Justice League of America\n"
          ]
        }
      ]
    },
    {
      "cell_type": "code",
      "source": [
        "list1 = ['abc', 'daf', 2, 90, 'something']\n",
        "list2 = ['adb' , 'dafaf', 91]\n",
        "\n",
        "if len(list1) > len(list2):\n",
        "  print('List1 has more stuff than list2')\n",
        "elif len(list1) < len(list2):\n",
        "  print('List1 has stuff than list2 ')\n",
        "else:\n",
        "  print('Each list has the same number of stuff')"
      ],
      "metadata": {
        "colab": {
          "base_uri": "https://localhost:8080/"
        },
        "id": "o-IFPE1kSt-K",
        "outputId": "c9653c75-8083-4977-9dbe-d829a5205bdd"
      },
      "execution_count": 20,
      "outputs": [
        {
          "output_type": "stream",
          "name": "stdout",
          "text": [
            "List1 has more stuff than list2\n"
          ]
        }
      ]
    },
    {
      "cell_type": "code",
      "source": [
        "toppings = ['chocolate', 'sprinkles']\n",
        "for topping in toppings:\n",
        "  if topping == 'chocolate':\n",
        "    print('All out of chocolate!')\n",
        "  else:\n",
        "    print('Adding the following topping! ' + topping )"
      ],
      "metadata": {
        "colab": {
          "base_uri": "https://localhost:8080/"
        },
        "id": "lE159hmxStuX",
        "outputId": "439bc4a0-6bd8-4226-edcb-e8dca24c375d"
      },
      "execution_count": 21,
      "outputs": [
        {
          "output_type": "stream",
          "name": "stdout",
          "text": [
            "All out of chocolate!\n",
            "Adding the following topping! sprinkles\n"
          ]
        }
      ]
    },
    {
      "cell_type": "code",
      "source": [
        ""
      ],
      "metadata": {
        "id": "Uwbm_6SjYqsr"
      },
      "execution_count": null,
      "outputs": []
    },
    {
      "cell_type": "code",
      "source": [
        "toppings = ['chocolate', 'sprinkles']\n",
        "for topping in toppings:\n",
        "  if topping == 'chocolate':\n",
        "    print('All out of chocolate!')\n",
        "else:\n",
        "    print('Adding the following topping! ' + topping )"
      ],
      "metadata": {
        "colab": {
          "base_uri": "https://localhost:8080/"
        },
        "outputId": "695b702d-e662-4d15-a4e4-799f7ba8e006",
        "id": "lt4KwbxNYr53"
      },
      "execution_count": 22,
      "outputs": [
        {
          "output_type": "stream",
          "name": "stdout",
          "text": [
            "All out of chocolate!\n",
            "Adding the following topping! sprinkles\n"
          ]
        }
      ]
    }
  ]
}