{
  "nbformat": 4,
  "nbformat_minor": 0,
  "metadata": {
    "colab": {
      "name": "InClass(for loops).ipynb",
      "provenance": [],
      "authorship_tag": "ABX9TyOykOrO2a+SmE49tyWe0Is3",
      "include_colab_link": true
    },
    "kernelspec": {
      "name": "python3",
      "display_name": "Python 3"
    },
    "language_info": {
      "name": "python"
    }
  },
  "cells": [
    {
      "cell_type": "markdown",
      "metadata": {
        "id": "view-in-github",
        "colab_type": "text"
      },
      "source": [
        "<a href=\"https://colab.research.google.com/github/VazKBCC22/cuny_lagcc_micro_credential_data_analytics/blob/main/InClass(for_loops).ipynb\" target=\"_parent\"><img src=\"https://colab.research.google.com/assets/colab-badge.svg\" alt=\"Open In Colab\"/></a>"
      ]
    },
    {
      "cell_type": "code",
      "execution_count": 7,
      "metadata": {
        "colab": {
          "base_uri": "https://localhost:8080/"
        },
        "id": "zQ8kOPoR29Wh",
        "outputId": "03eb23e0-4af5-404b-8bd0-0854e61ccac9"
      },
      "outputs": [
        {
          "output_type": "stream",
          "name": "stdout",
          "text": [
            "cornish hen\n",
            "sauteed mushrooms\n",
            "mutton chops\n",
            "shrimp soup\n",
            "angus beef\n"
          ]
        }
      ],
      "source": [
        "foods = ['cornish hen', 'sauteed mushrooms', 'mutton chops', 'shrimp soup', 'angus beef']\n",
        "for food in foods:\n",
        "  print(food)\n"
      ]
    },
    {
      "cell_type": "code",
      "execution_count": 8,
      "metadata": {
        "colab": {
          "base_uri": "https://localhost:8080/"
        },
        "outputId": "bb89b1b6-ee11-404c-8718-36dd37118daa",
        "id": "vDo9nsR34UmO"
      },
      "outputs": [
        {
          "output_type": "stream",
          "name": "stdout",
          "text": [
            "Cornish Hen is one of my favorite foods.\n",
            "Sauteed Mushrooms is one of my favorite foods.\n",
            "Mutton Chops is one of my favorite foods.\n",
            "Shrimp Soup is one of my favorite foods.\n",
            "Angus Beef is one of my favorite foods.\n"
          ]
        }
      ],
      "source": [
        "for food in foods:\n",
        "    print(food.title() + \" is one of my favorite foods.\")"
      ]
    },
    {
      "cell_type": "code",
      "source": [
        "for food in foods:\n",
        "  print(food)\n",
        "print('I am done')"
      ],
      "metadata": {
        "colab": {
          "base_uri": "https://localhost:8080/"
        },
        "id": "VrvK8GdU4lLf",
        "outputId": "8f4f9590-e132-4324-9b78-518ca6b6c971"
      },
      "execution_count": 9,
      "outputs": [
        {
          "output_type": "stream",
          "name": "stdout",
          "text": [
            "cornish hen\n",
            "sauteed mushrooms\n",
            "mutton chops\n",
            "shrimp soup\n",
            "angus beef\n",
            "I am done\n"
          ]
        }
      ]
    },
    {
      "cell_type": "code",
      "source": [
        "numbers = list(range(0, 11, 2))\n",
        "print(numbers)"
      ],
      "metadata": {
        "colab": {
          "base_uri": "https://localhost:8080/"
        },
        "id": "n6GKvrnr4jMI",
        "outputId": "5f29c5ef-f6ef-4525-897f-10940f2a51d2"
      },
      "execution_count": 10,
      "outputs": [
        {
          "output_type": "stream",
          "name": "stdout",
          "text": [
            "[0, 2, 4, 6, 8, 10]\n"
          ]
        }
      ]
    },
    {
      "cell_type": "code",
      "source": [
        "min(numbers)"
      ],
      "metadata": {
        "colab": {
          "base_uri": "https://localhost:8080/"
        },
        "id": "5iDvZA1x7f0u",
        "outputId": "e6f4a513-0761-4725-ed83-f524f20c719f"
      },
      "execution_count": 15,
      "outputs": [
        {
          "output_type": "execute_result",
          "data": {
            "text/plain": [
              "0"
            ]
          },
          "metadata": {},
          "execution_count": 15
        }
      ]
    },
    {
      "cell_type": "code",
      "source": [
        "max(numbers)"
      ],
      "metadata": {
        "colab": {
          "base_uri": "https://localhost:8080/"
        },
        "id": "MV3-0vqj7wze",
        "outputId": "a9b5c394-6806-417a-ce06-5fa829c74f95"
      },
      "execution_count": 13,
      "outputs": [
        {
          "output_type": "execute_result",
          "data": {
            "text/plain": [
              "10"
            ]
          },
          "metadata": {},
          "execution_count": 13
        }
      ]
    },
    {
      "cell_type": "code",
      "source": [
        "sum(numbers)"
      ],
      "metadata": {
        "colab": {
          "base_uri": "https://localhost:8080/"
        },
        "id": "4bwlRU5j72ZU",
        "outputId": "255f8a4d-ce57-4079-e66b-2c14a9fce756"
      },
      "execution_count": 14,
      "outputs": [
        {
          "output_type": "execute_result",
          "data": {
            "text/plain": [
              "30"
            ]
          },
          "metadata": {},
          "execution_count": 14
        }
      ]
    }
  ]
}